{
 "cells": [
  {
   "cell_type": "code",
   "execution_count": 1,
   "id": "4386049f-dd19-4279-8ab8-1ee7b12cd3f4",
   "metadata": {},
   "outputs": [],
   "source": [
    "from mxnet import nd\n",
    "import random\n",
    "import zipfile\n",
    "import collections\n",
    "import d2lzh as d2l\n",
    "import math\n",
    "from mxnet import autograd,gluon,nd\n",
    "from mxnet.gluon import data as gdata,loss as gloss,nn\n",
    "import random\n",
    "import sys\n",
    "import time\n",
    "import zipfile\n",
    "import numpy as np"
   ]
  },
  {
   "cell_type": "code",
   "execution_count": 2,
   "id": "d0fc9e7c-9364-425d-83c8-2aaa075a5207",
   "metadata": {},
   "outputs": [],
   "source": [
    "def read_file_data(filePath):\n",
    "    f=open(filePath)\n",
    "    lines=f.readlines()\n",
    "    raw_dataset=[st.split() for st in lines]\n",
    "    wordNum=0;\n",
    "    for st in raw_dataset:\n",
    "         for wt in st:\n",
    "            wordNum+=1\n",
    "    #input_matrix=nd.array(raw_dataset)\n",
    "    counter=collections.Counter([tk for st in raw_dataset for tk in st])\n",
    "    idx_to_token=[tk for tk,_ in counter.items()]\n",
    "    token_to_idx={tk:idx for idx, tk in enumerate(idx_to_token)}\n",
    "    dataset=[[[token_to_idx[tk] for tk in st if tk in token_to_idx]] for st in raw_dataset]\n",
    "    dict_size=800\n",
    "    dataset=np.array(dataset)\n",
    "    temp=np.array([])\n",
    "    for row in dataset:\n",
    "        for col in row:\n",
    "            temp=np.append(temp,np.array(col))\n",
    "    zeros=np.zeros(dict_size-wordNum)\n",
    "    temp=np.append(temp,zeros)\n",
    "    temp=nd.array(temp)\n",
    "    temp.shape\n",
    "    temp=temp.reshape(800,-1)\n",
    "    return temp,wordNum"
   ]
  },
  {
   "cell_type": "code",
   "execution_count": 3,
   "id": "7fa5f539-5ea7-45b3-a222-0b4cfc3b49ce",
   "metadata": {},
   "outputs": [],
   "source": [
    "def conv_activation(w,b,z):\n",
    "    sum=0;\n",
    "    for t in z:\n",
    "        sum+=t.sum()\n",
    "    if sum==0:\n",
    "        return 0\n",
    "    temp=nd.dot(w,z)\n",
    "    sum_two=temp+b\n",
    "    for i in range(sum_two.shape[0]):\n",
    "        for j in range(sum_two.shape[1]):\n",
    "            sum_two[i][j]=max(sum_two[i][j],0)\n",
    "    return sum_two"
   ]
  },
  {
   "cell_type": "code",
   "execution_count": 4,
   "id": "3e0a056d-e1a9-427f-ba36-19d6de8b641d",
   "metadata": {},
   "outputs": [],
   "source": [
    "def corr2d(X,windows_size,kernel_w,kernel_h,param_w,param_b):\n",
    "    Y=nd.zeros((X.shape[0],windows_size))\n",
    "    for i in range(X.shape[0]):\n",
    "        if(i+windows_size>=X.shape[0]):\n",
    "            break\n",
    "        Y[i]=conv_activation(param_w[i].reshape(1,-1),param_b[i],X[i:i+windows_size].T)\n",
    "    return Y"
   ]
  },
  {
   "cell_type": "code",
   "execution_count": 5,
   "id": "8947237b-304e-45a3-940e-05feb6f5a0d9",
   "metadata": {},
   "outputs": [],
   "source": [
    "def init_params():\n",
    "    conv_one_W=nd.zeros((800,4))\n",
    "    conv_one_W=nd.random.normal(scale=0.01,shape=(conv_one_W.shape))\n",
    "    conv_one_W.reshape(800,4)\n",
    "    conv_one_B=nd.zeros((800,1))\n",
    "    conv_one_B=nd.random.normal(scale=0.01,shape=(conv_one_B.shape))\n",
    "\n",
    "    conv_two_W=nd.zeros((400,3))\n",
    "    conv_two_W=nd.random.normal(scale=0.01,shape=(conv_two_W.shape))\n",
    "    conv_two_W.reshape(400,3)\n",
    "    conv_two_B=nd.zeros((400,1))\n",
    "    conv_two_B=nd.random.normal(scale=0.01,shape=(conv_two_B.shape))\n",
    "\n",
    "    conv_three_W=nd.zeros((200,3))\n",
    "    conv_three_W=nd.random.normal(scale=0.01,shape=(conv_three_W.shape))\n",
    "    conv_three_B=nd.zeros((200,1))\n",
    "    conv_three_B=nd.random.normal(scale=0.01,shape=(conv_three_B.shape))\n",
    "\n",
    "    conv_four_W=nd.zeros((100,3))\n",
    "    conv_four_W=nd.random.normal(scale=0.01,shape=(conv_four_W.shape))\n",
    "    conv_four_B=nd.zeros((100,1))\n",
    "    conv_four_B=nd.random.normal(scale=0.01,shape=(conv_four_B.shape))\n",
    "\n",
    "    ful_connect_W=nd.zeros((100,80))\n",
    "    ful_connect_W=nd.random.normal(scale=0.01,shape=(ful_connect_W.shape))\n",
    "    ful_connect_B=nd.zeros((80,1))\n",
    "    ful_connect_B=nd.random.normal(scale=0.01,shape=(ful_connect_B.shape))\n",
    "    params=[conv_one_W,conv_one_B,conv_two_W,conv_two_B,conv_three_W,conv_three_B,conv_four_W,conv_four_B,ful_connect_W,ful_connect_B]\n",
    "    return params"
   ]
  },
  {
   "cell_type": "code",
   "execution_count": 6,
   "id": "f7707087-ab1b-4f85-980a-ec3aa142fea9",
   "metadata": {},
   "outputs": [],
   "source": [
    "def myMax(X_one,X_two):\n",
    "    sum_one=X_one.sum()\n",
    "    sum_two=X_two.sum()\n",
    "    if sum_one>sum_two:\n",
    "        return X_one\n",
    "    else :\n",
    "        return X_two"
   ]
  },
  {
   "cell_type": "code",
   "execution_count": 7,
   "id": "89d3d7d7-660a-4a73-8869-23f82f66ebb7",
   "metadata": {},
   "outputs": [],
   "source": [
    "def max_pool(X,width):\n",
    "    temp= int(X.shape[0]/2)\n",
    "    Y=nd.zeros((temp,width))\n",
    "    j=0\n",
    "    for i in range(0,X.shape[0]-1):\n",
    "        if i%2==1:\n",
    "            #print(j)\n",
    "            Y[j]=myMax(X[i],X[i+1])\n",
    "            j+=1\n",
    "    return Y"
   ]
  },
  {
   "cell_type": "code",
   "execution_count": 8,
   "id": "3c45fb25-f47b-4aa4-b86b-0b96386e370d",
   "metadata": {},
   "outputs": [],
   "source": [
    "def ful_connect_layer(X,W,B):\n",
    "    Y=nd.zeros(W.shape[1])\n",
    "    Y=nd.dot(X.T,W).T+B\n",
    "    return Y.tanh()\n"
   ]
  },
  {
   "cell_type": "code",
   "execution_count": 9,
   "id": "aeff2570-89c5-4481-b8a6-0058025d625c",
   "metadata": {},
   "outputs": [],
   "source": [
    "def save_params(params,filePath):\n",
    "    layer_one_W,layer_one_B,layer_two_W,layer_two_B,layer_three_W,layer_three_B,layer_four_W,layer_four_B,layer_connect_W,layer_connect_B=params\n",
    "    file=filePath\n",
    "    nd.save(file+'conv_layer_one_W.txt',layer_one_W)\n",
    "    nd.save(file+'conv_layer_one_B.txt',layer_one_B)\n",
    "    nd.save(file+'conv_layer_two_W.txt',layer_two_W)\n",
    "    nd.save(file+'conv_layer_two_B.txt',layer_two_B)\n",
    "    nd.save(file+'conv_layer_three_W.txt',layer_three_W)\n",
    "    nd.save(file+'conv_layer_three_B.txt',layer_three_B)\n",
    "    nd.save(file+'conv_layer_four_W.txt',layer_four_W)\n",
    "    nd.save(file+'conv_layer_four_B.txt',layer_four_B)\n",
    "    nd.save(file+'ful_layer_connect_W.txt',layer_connect_W)\n",
    "    nd.save(file+'ful_layer_connect_B.txt',layer_connect_B)\n",
    "    return"
   ]
  },
  {
   "cell_type": "code",
   "execution_count": 10,
   "id": "c2880597-d077-4616-8a02-13b63cb72e24",
   "metadata": {},
   "outputs": [],
   "source": [
    "def read_params(filePath):\n",
    "     layer_one_W=nd.load(filePath+'conv_layer_one_W.txt')\n",
    "     layer_one_B=nd.load(filePath+'conv_layer_one_B.txt')\n",
    "     layer_two_W=nd.load(filePath+'conv_layer_two_W.txt')\n",
    "     layer_two_B=nd.load(filePath+'conv_layer_two_B.txt')\n",
    "     layer_three_W=nd.load(filePath+'conv_layer_three_W.txt')\n",
    "     layer_three_B=nd.load(filePath+'conv_layer_three_B.txt')\n",
    "     layer_four_W=nd.load(filePath+'conv_layer_four_W.txt')\n",
    "     layer_four_B=nd.load(filePath+'conv_layer_four_B.txt')\n",
    "     layer_connect_W=nd.load(filePath+'ful_layer_connect_W.txt')\n",
    "     layer_connect_B=nd.load(filePath+'ful_layer_connect_B.txt')\n",
    "     params=[layer_one_W,layer_one_B,layer_two_W,layer_two_B,layer_three_W,layer_three_B,layer_four_W,layer_four_B,layer_connect_W,layer_connect_B]\n",
    "     return params"
   ]
  },
  {
   "cell_type": "code",
   "execution_count": null,
   "id": "6d36faf9-2505-4db8-9625-8749019a9b72",
   "metadata": {},
   "outputs": [],
   "source": []
  }
 ],
 "metadata": {
  "kernelspec": {
   "display_name": "Python 3",
   "language": "python",
   "name": "python3"
  },
  "language_info": {
   "codemirror_mode": {
    "name": "ipython",
    "version": 3
   },
   "file_extension": ".py",
   "mimetype": "text/x-python",
   "name": "python",
   "nbconvert_exporter": "python",
   "pygments_lexer": "ipython3",
   "version": "3.6.13"
  }
 },
 "nbformat": 4,
 "nbformat_minor": 5
}
