{
 "cells": [
  {
   "cell_type": "code",
   "execution_count": 2,
   "id": "074a2623-0f20-40a1-bb7e-d8a9aaa82f84",
   "metadata": {},
   "outputs": [],
   "source": [
    "from mxnet import nd\n",
    "import random\n",
    "import zipfile\n",
    "import collections\n",
    "import d2lzh as d2l\n",
    "import math\n",
    "from mxnet import autograd,gluon,nd\n",
    "from mxnet.gluon import data as gdata,loss as gloss,nn,utils as gutils\n",
    "import os\n",
    "import tarfile\n",
    "import random\n",
    "import sys\n",
    "import time\n",
    "import zipfile\n",
    "import numpy as np\n",
    "from mxnet import init\n",
    "from mxnet.contrib import text"
   ]
  },
  {
   "cell_type": "code",
   "execution_count": 3,
   "id": "c1d97883-2f51-4d5e-8dcb-a4cfc3695f1f",
   "metadata": {},
   "outputs": [],
   "source": [
    "def read_embedding_params(filePath):\n",
    "    idx_to_token=np.load(filePath+'idx_to_token.npy')\n",
    "    #token_to_idx=np.load(filePath+'token_to_idx.npy')\n",
    "    token_to_idx={tk:idx for idx,tk in enumerate(idx_to_token)}\n",
    "    embedding_weight=nd.load(filePath+'embedding_weight.txt')\n",
    "    return idx_to_token,token_to_idx,embedding_weight"
   ]
  },
  {
   "cell_type": "code",
   "execution_count": 4,
   "id": "0b64f12e-72e9-4fbf-874d-0d610f856bbf",
   "metadata": {},
   "outputs": [],
   "source": [
    "idx_to_token,token_to_idx,embedding_weight=read_embedding_params(\"data/params/word2Vec/\")\n",
    "embedding_dim=20"
   ]
  },
  {
   "cell_type": "code",
   "execution_count": 5,
   "id": "2b68cfbf-2191-4885-99d8-879c48079274",
   "metadata": {},
   "outputs": [],
   "source": [
    "def read_params(filePath):\n",
    "     layer_one_W=nd.load(filePath+'conv_layer_one_W.txt')\n",
    "     layer_one_B=nd.load(filePath+'conv_layer_one_B.txt')\n",
    "     layer_two_W=nd.load(filePath+'conv_layer_two_W.txt')\n",
    "     layer_two_B=nd.load(filePath+'conv_layer_two_B.txt')\n",
    "     layer_three_W=nd.load(filePath+'conv_layer_three_W.txt')\n",
    "     layer_three_B=nd.load(filePath+'conv_layer_three_B.txt')\n",
    "     layer_four_W=nd.load(filePath+'conv_layer_four_W.txt')\n",
    "     layer_four_B=nd.load(filePath+'conv_layer_four_B.txt')\n",
    "     layer_connect_W=nd.load(filePath+'ful_layer_connect_W.txt')\n",
    "     layer_connect_B=nd.load(filePath+'ful_layer_connect_B.txt')\n",
    "     params=[layer_one_W,layer_one_B,layer_two_W,layer_two_B,layer_three_W,layer_three_B,layer_four_W,layer_four_B,layer_connect_W,layer_connect_B]\n",
    "     return params"
   ]
  },
  {
   "cell_type": "code",
   "execution_count": 6,
   "id": "d822aba8-b67d-46d5-baec-649e4377e91f",
   "metadata": {},
   "outputs": [],
   "source": [
    "text_size=800\n",
    "embed_size=20"
   ]
  },
  {
   "cell_type": "code",
   "execution_count": null,
   "id": "d0fc9e7c-9364-425d-83c8-2aaa075a5207",
   "metadata": {},
   "outputs": [],
   "source": []
  },
  {
   "cell_type": "code",
   "execution_count": 7,
   "id": "7fa5f539-5ea7-45b3-a222-0b4cfc3b49ce",
   "metadata": {},
   "outputs": [],
   "source": [
    "def conv_activation(w,b,z):\n",
    "    sum=0;\n",
    "    for t in z:\n",
    "        sum+=t.sum()\n",
    "    if sum==0:\n",
    "        return 0\n",
    "    temp=nd.dot(w,z)\n",
    "    sum_two=temp+b\n",
    "    for i in range(sum_two.shape[0]):\n",
    "        for j in range(sum_two.shape[1]):\n",
    "            sum_two[i][j]=max(sum_two[i][j],0)\n",
    "    return sum_two"
   ]
  },
  {
   "cell_type": "code",
   "execution_count": 8,
   "id": "3e0a056d-e1a9-427f-ba36-19d6de8b641d",
   "metadata": {},
   "outputs": [],
   "source": [
    "def conv_layer(X,param_w,param_b):\n",
    "    windows_size=3\n",
    "    Y=nd.zeros((X.shape[0],windows_size,param_w.shape[1]))\n",
    "    for i in range(X.shape[0]):\n",
    "        if(i+windows_size>=X.shape[0]):\n",
    "            break\n",
    "        Y[i]=conv_activation(param_w,param_b,X[i:i+windows_size])\n",
    "    return Y"
   ]
  },
  {
   "cell_type": "code",
   "execution_count": 9,
   "id": "8947237b-304e-45a3-940e-05feb6f5a0d9",
   "metadata": {},
   "outputs": [],
   "source": [
    "def init_params():\n",
    "    conv_one_W=nd.zeros((20,3))\n",
    "    conv_one_W=nd.random.normal(scale=0.01,shape=(conv_one_W.shape))\n",
    "    conv_one_W.reshape(20,3)\n",
    "\n",
    "    conv_one_B=nd.zeros((3,3))\n",
    "    conv_one_B=nd.random.normal(scale=0.01,shape=(conv_one_B.shape))\n",
    "    conv_one_B.reshape((3,3))\n",
    "    \n",
    "    conv_two_W=nd.zeros((9,3))\n",
    "    conv_two_W=nd.random.normal(scale=0.01,shape=(conv_two_W.shape))\n",
    "    conv_two_W.reshape(9,3)\n",
    "\n",
    "    conv_two_B=nd.zeros((3,3))\n",
    "    conv_two_B=nd.random.normal(scale=0.01,shape=(conv_two_B.shape))\n",
    "\n",
    "    conv_three_W=nd.zeros((9,3))\n",
    "    conv_three_W=nd.random.normal(scale=0.01,shape=(conv_three_W.shape))\n",
    "\n",
    "    conv_three_B=nd.zeros((3,3))\n",
    "    conv_three_B=nd.random.normal(scale=0.01,shape=(conv_three_B.shape))\n",
    "\n",
    "    conv_four_W=nd.zeros((9,1))\n",
    "    conv_four_W=nd.random.normal(scale=0.01,shape=(conv_four_W.shape))\n",
    "\n",
    "    conv_four_B=nd.zeros(1)\n",
    "    conv_four_B=nd.random.normal(scale=0.01,shape=(conv_four_B.shape))\n",
    "\n",
    "    ful_connect_W=nd.zeros((100,80))\n",
    "    ful_connect_W=nd.random.normal(scale=0.01,shape=(ful_connect_W.shape))\n",
    "\n",
    "    ful_connect_B=nd.zeros((80,1))\n",
    "    ful_connect_B=nd.random.normal(scale=0.01,shape=(ful_connect_B.shape))\n",
    "    params=[conv_one_W,conv_one_B,conv_two_W,conv_two_B,conv_three_W,conv_three_B,conv_four_W,conv_four_B,ful_connect_W,ful_connect_B]"
   ]
  },
  {
   "cell_type": "code",
   "execution_count": 10,
   "id": "f7707087-ab1b-4f85-980a-ec3aa142fea9",
   "metadata": {},
   "outputs": [],
   "source": [
    "def myMax(X_one,X_two):\n",
    "    sum_one=X_one.sum()\n",
    "    sum_two=X_two.sum()\n",
    "    if sum_one>sum_two:\n",
    "        return X_one\n",
    "    else :\n",
    "        return X_two"
   ]
  },
  {
   "cell_type": "code",
   "execution_count": 11,
   "id": "89d3d7d7-660a-4a73-8869-23f82f66ebb7",
   "metadata": {},
   "outputs": [],
   "source": [
    "def max_pool(X):\n",
    "    temp= int(X.shape[0]/2)\n",
    "    Y=nd.zeros((temp,X.shape[1]))\n",
    "    j=0\n",
    "    for i in range(X.shape[0]-1):\n",
    "        if i%2==0:\n",
    "            Y[j]=myMax(X[i],X[i+1])\n",
    "            j+=1\n",
    "    return Y"
   ]
  },
  {
   "cell_type": "code",
   "execution_count": 12,
   "id": "3c45fb25-f47b-4aa4-b86b-0b96386e370d",
   "metadata": {},
   "outputs": [],
   "source": [
    "def full_connect_layer(X,W,B):\n",
    "    Y=nd.zeros(W.shape[1])\n",
    "    Y=nd.dot(X.T,W).T+B\n",
    "    return Y.tanh()\n"
   ]
  },
  {
   "cell_type": "code",
   "execution_count": 13,
   "id": "aeff2570-89c5-4481-b8a6-0058025d625c",
   "metadata": {},
   "outputs": [],
   "source": [
    "def save_params(params,filePath):\n",
    "    layer_one_W,layer_one_B,layer_two_W,layer_two_B,layer_three_W,layer_three_B,layer_four_W,layer_four_B,layer_connect_W,layer_connect_B=params\n",
    "    file=filePath\n",
    "    nd.save(file+'conv_layer_one_W.txt',layer_one_W)\n",
    "    nd.save(file+'conv_layer_one_B.txt',layer_one_B)\n",
    "    nd.save(file+'conv_layer_two_W.txt',layer_two_W)\n",
    "    nd.save(file+'conv_layer_two_B.txt',layer_two_B)\n",
    "    nd.save(file+'conv_layer_three_W.txt',layer_three_W)\n",
    "    nd.save(file+'conv_layer_three_B.txt',layer_three_B)\n",
    "    nd.save(file+'conv_layer_four_W.txt',layer_four_W)\n",
    "    nd.save(file+'conv_layer_four_B.txt',layer_four_B)\n",
    "    nd.save(file+'ful_layer_connect_W.txt',layer_connect_W)\n",
    "    nd.save(file+'ful_layer_connect_B.txt',layer_connect_B)\n",
    "    return"
   ]
  },
  {
   "cell_type": "code",
   "execution_count": 14,
   "id": "463b87d1-aa8a-456c-970c-9cc8dbb7a513",
   "metadata": {},
   "outputs": [],
   "source": []
  },
  {
   "cell_type": "code",
   "execution_count": 15,
   "id": "8f18fdad-55b0-433d-80ad-da2103717d0d",
   "metadata": {},
   "outputs": [],
   "source": [
    "params=read_params('data/params/conv/')"
   ]
  },
  {
   "cell_type": "code",
   "execution_count": 16,
   "id": "ce518599-7fb8-49a2-bf65-898435a1da75",
   "metadata": {},
   "outputs": [],
   "source": [
    "def dropout_layer(X,drop_prob):\n",
    "    assert 0 <= drop_prob <=1\n",
    "    keep_prob=1-drop_prob\n",
    "    if keep_prob==0:\n",
    "        return X.zeros_like()\n",
    "    mask=nd.random.uniform(0,1,X.shape)<keep_prob\n",
    "    return mask*X/keep_prob"
   ]
  },
  {
   "cell_type": "code",
   "execution_count": 111,
   "id": "62679dc4-3db2-41ae-950c-142664ddc609",
   "metadata": {
    "scrolled": true,
    "tags": []
   },
   "outputs": [],
   "source": [
    "class CNNCodeRecheckTrainModel(nn.Block):\n",
    "    def __init__(self,vocab_size,embedding_weight,embed_size,num_channels,**kwargs):\n",
    "        super(CNNCodeRecheckTrainModel,self).__init__(**kwargs)\n",
    "        #参与训练嵌入层\n",
    "        self.embedding=nn.Embedding(input_dim=vocab_size,output_dim=embed_size)\n",
    "        #不参与训练嵌入层\n",
    "        #self.constant_embedding=nn.Embedding(input_dim=vocab_size,output_dim=embed_size)\n",
    "        #申请梯度\n",
    "        params=read_params('data/params/conv/')\n",
    "        for param in params:\n",
    "            #print(param[0])\n",
    "            param[0].attach_grad()\n",
    "        conv_one_W,conv_one_B,conv_two_W,conv_two_B,conv_three_W,conv_three_B,conv_four_W,conv_four_B,full_connect_W,full_connect_B=params\n",
    "        self.conv_one_W=conv_one_W\n",
    "        self.conv_one_B=conv_one_B\n",
    "        self.conv_two_W=conv_two_W\n",
    "        self.conv_two_B=conv_two_B\n",
    "        self.conv_three_W=conv_three_W\n",
    "        self.conv_three_B=conv_three_B\n",
    "        self.conv_four_W=conv_four_W\n",
    "        self.conv_foru_B=conv_four_B\n",
    "        self.full_connect_W=full_connect_W\n",
    "        self.full_connect_B=full_connect_B\n",
    "        self.conv_layer=conv_layer\n",
    "        self.max_pool_layer=max_pool_layer\n",
    "        self.full_connect_layer=full_connect_layer\n",
    "        self.dropout_layer=dropout_layer\n",
    "        self.num_channels=num_channels\n",
    "    def set_embedding_weight(self,embedding_weight):\n",
    "        self.embedding.weight.set_data(embedding_weight)\n",
    "    def read_params(filePath):\n",
    "         layer_one_W=nd.load(filePath+'conv_layer_one_W.txt')\n",
    "         layer_one_B=nd.load(filePath+'conv_layer_one_B.txt')\n",
    "         layer_two_W=nd.load(filePath+'conv_layer_two_W.txt')\n",
    "         layer_two_B=nd.load(filePath+'conv_layer_two_B.txt')\n",
    "         layer_three_W=nd.load(filePath+'conv_layer_three_W.txt')\n",
    "         layer_three_B=nd.load(filePath+'conv_layer_three_B.txt')\n",
    "         layer_four_W=nd.load(filePath+'conv_layer_four_W.txt')\n",
    "         layer_four_B=nd.load(filePath+'conv_layer_four_B.txt')\n",
    "         layer_connect_W=nd.load(filePath+'ful_layer_connect_W.txt')\n",
    "         layer_connect_B=nd.load(filePath+'ful_layer_connect_B.txt')\n",
    "         params=[layer_one_W,layer_one_B,layer_two_W,layer_two_B,layer_three_W,layer_three_B,layer_four_W,layer_four_B,layer_connect_W,layer_connect_B]\n",
    "         return params\n",
    "    \n",
    "    def forward(self,inputs,mode='train'):\n",
    "        inputs_embeddings=nd.array([])\n",
    "        if mode=='train':\n",
    "            inputs_embeddings=nd.stack(self.embedding(inputs[0]),self.embedding(inputs[1]),self.embedding(inputs[2]))\n",
    "        else :\n",
    "            inputs_embeddings=nd.stack(self.embedding(inputs[0]),self.embedding(inputs[1]))\n",
    "        "
   ]
  },
  {
   "cell_type": "code",
   "execution_count": 31,
   "id": "387643de-0334-48e4-bde4-e6c74dd1c757",
   "metadata": {},
   "outputs": [],
   "source": [
    "def read_file_data(filePath,token_to_idx,text_size):\n",
    "    f=open(filePath)\n",
    "    lines=f.readlines()\n",
    "    raw_dataset=[st.split() for st in lines]\n",
    "    raw_dataset.remove([])\n",
    "    wordNum=0;\n",
    "    dataset_temp=[]\n",
    "    for st in raw_dataset:\n",
    "         for wt in st:\n",
    "                wordNum+=1\n",
    "    dataset=[[token_to_idx[tk] for tk in st if tk in token_to_idx] for st in raw_dataset]\n",
    "    dict_size=text_size #文本大小\n",
    "    dataset=np.array(dataset)\n",
    "    temp_one=np.array([])\n",
    "    for row in dataset:\n",
    "        for col in row:\n",
    "            temp_one=np.append(temp_one,np.array(col))\n",
    "    zeros=np.zeros(dict_size-wordNum)\n",
    "    temp_two=np.append(temp_one,zeros)\n",
    "    temp_three=np.array(temp_two)\n",
    "    #print(temp_three)\n",
    "    temp_three=temp_three.reshape(dict_size,-1)\n",
    "    return temp_three"
   ]
  },
  {
   "cell_type": "code",
   "execution_count": null,
   "id": "4628a92c-55db-482c-8356-3a79410d62c6",
   "metadata": {},
   "outputs": [],
   "source": [
    "temp=read_file_data(\"data/input_data/positiveText/positiveText_cnn.lex\",token_to_idx,text_size)"
   ]
  },
  {
   "cell_type": "code",
   "execution_count": 32,
   "id": "98628ffe-9721-45cd-a759-168aa79488e5",
   "metadata": {},
   "outputs": [],
   "source": [
    "def read_mult_input_data(fileDir,token_to_idx,text_size):\n",
    "    positive_text=read_file_data(fileDir+'positiveText/positiveText_cnn.lex',token_to_idx,text_size)\n",
    "    original_text=read_file_data(fileDir+'originalText/originalText_cnn.lex',token_to_idx,text_size)\n",
    "    negative_text=read_file_data(fileDir+'negativeText/negativeText_cnn.lex',token_to_idx,text_size)\n",
    "    return original_text,positive_text,negative_text"
   ]
  },
  {
   "cell_type": "code",
   "execution_count": 36,
   "id": "ff1ea29d-81cd-4e0a-aec4-8c519f28b8bc",
   "metadata": {
    "scrolled": true,
    "tags": []
   },
   "outputs": [],
   "source": [
    "original_text,positive_text,negative_text=read_mult_input_data(\"data/input_data/\",token_to_idx,text_size)\n",
    "original_text=nd.array(original_text)\n",
    "positive_text=nd.array(positive_text)\n",
    "negative_text=nd.array(negative_text)"
   ]
  },
  {
   "cell_type": "code",
   "execution_count": 38,
   "id": "bf577f8e-9e46-4608-85ca-801833494022",
   "metadata": {},
   "outputs": [],
   "source": [
    "text=nd.stack(original_text,positive_text,negative_text)\n",
    "#embedding_weight=embedding_weight\n",
    "embedding_weight=nd.array(embedding_weight[0])"
   ]
  },
  {
   "cell_type": "code",
   "execution_count": 39,
   "id": "f0c414e6-f5a6-41d5-937b-314caf0b6f69",
   "metadata": {},
   "outputs": [
    {
     "name": "stdout",
     "output_type": "stream",
     "text": [
      "(80, 20)\n"
     ]
    }
   ],
   "source": [
    "print(embedding_weight.shape)"
   ]
  },
  {
   "cell_type": "code",
   "execution_count": 113,
   "id": "ea678512-dcb0-429d-b78a-8e4f39379c88",
   "metadata": {},
   "outputs": [],
   "source": [
    "net=CNNCodeRecheckTrainModel(len(idx_to_token),embedding_weight,embed_size,3,params)\n",
    "net.embedding.weight.initialize(init=init.Xavier(),force_reinit=True)\n",
    "net.set_embedding_weight(embedding_weight)"
   ]
  },
  {
   "cell_type": "code",
   "execution_count": null,
   "id": "f10ad2da-2aea-4303-a5ae-284a8e4b3703",
   "metadata": {},
   "outputs": [],
   "source": [
    "print(text)\n",
    "#print(net.embedding.weight.data())"
   ]
  },
  {
   "cell_type": "code",
   "execution_count": null,
   "id": "1ca9a5ac-e364-48c3-9228-3ee500fd24e6",
   "metadata": {},
   "outputs": [],
   "source": [
    "print(nd.stack(net.embedding(original_text),net.embedding(positive_text),net.embedding(negative_text)))"
   ]
  },
  {
   "cell_type": "code",
   "execution_count": null,
   "id": "8570c312-e85f-4cda-b86a-29a6b00b3761",
   "metadata": {},
   "outputs": [],
   "source": [
    "Y=net(text)"
   ]
  },
  {
   "cell_type": "code",
   "execution_count": null,
   "id": "bc0a2453-e5be-4798-9bb4-c07134a6ad6a",
   "metadata": {},
   "outputs": [],
   "source": []
  }
 ],
 "metadata": {
  "kernelspec": {
   "display_name": "Python 3",
   "language": "python",
   "name": "python3"
  },
  "language_info": {
   "codemirror_mode": {
    "name": "ipython",
    "version": 3
   },
   "file_extension": ".py",
   "mimetype": "text/x-python",
   "name": "python",
   "nbconvert_exporter": "python",
   "pygments_lexer": "ipython3",
   "version": "3.6.13"
  }
 },
 "nbformat": 4,
 "nbformat_minor": 5
}
