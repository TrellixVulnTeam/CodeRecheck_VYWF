{
 "cells": [
  {
   "cell_type": "code",
   "execution_count": 1,
   "id": "f772669f-3ad8-4855-a72a-41b00ccbb359",
   "metadata": {},
   "outputs": [],
   "source": [
    "from mxnet import nd\n",
    "import random\n",
    "import zipfile\n",
    "import collections\n",
    "import d2lzh as d2l\n",
    "import math\n",
    "from mxnet import autograd,gluon,nd\n",
    "from mxnet.gluon import data as gdata,loss as gloss,nn\n",
    "import random\n",
    "import sys\n",
    "import time\n",
    "import zipfile\n",
    "import numpy as np"
   ]
  },
  {
   "cell_type": "code",
   "execution_count": 2,
   "id": "6e6736f6-6de0-4556-a2f4-8ceaa222e1a1",
   "metadata": {},
   "outputs": [],
   "source": [
    "def read_file_data(filePath):\n",
    "    f=open(filePath)\n",
    "    lines=f.readlines()\n",
    "    raw_dataset=[st.split() for st in lines]\n",
    "    wordNum=0;\n",
    "    for st in raw_dataset:\n",
    "         for wt in st:\n",
    "            wordNum+=1\n",
    "    #input_matrix=nd.array(raw_dataset)\n",
    "    counter=collections.Counter([tk for st in raw_dataset for tk in st])\n",
    "    idx_to_token=[tk for tk,_ in counter.items()]\n",
    "    token_to_idx={tk:idx for idx, tk in enumerate(idx_to_token)}\n",
    "    dataset=[[[token_to_idx[tk] for tk in st if tk in token_to_idx]] for st in raw_dataset]\n",
    "    dict_size=800\n",
    "    dataset=np.array(dataset)\n",
    "    temp=np.array([])\n",
    "    for row in dataset:\n",
    "        for col in row:\n",
    "            temp=np.append(temp,np.array(col))\n",
    "    zeros=np.zeros(dict_size-wordNum)\n",
    "    temp=np.append(temp,zeros)\n",
    "    temp=nd.array(temp)\n",
    "    temp.shape\n",
    "    temp=temp.reshape(800,-1)\n",
    "    return temp,wordNum"
   ]
  },
  {
   "cell_type": "code",
   "execution_count": null,
   "id": "eaa43bea-6227-4d02-a26c-9887d3a517a1",
   "metadata": {},
   "outputs": [],
   "source": [
    "temp,_=read_file_data(\"data/input_data/positiveText/positiveText_cnn.lex\")\n",
    "temp"
   ]
  },
  {
   "cell_type": "code",
   "execution_count": 69,
   "id": "e19cdf0b-66e6-488d-b2ec-5d036ea06db6",
   "metadata": {},
   "outputs": [],
   "source": [
    "def conv_activation(w,b,z):\n",
    "    sum=0\n",
    "    for t in z:\n",
    "        sum+=t.sum()\n",
    "    if sum==0:\n",
    "        return 0\n",
    "    temp=nd.dot(z,w)\n",
    "    sum_two=temp+b\n",
    "    for i in range(sum_two.shape[0]):\n",
    "        for j in range(sum_two.shape[1]):\n",
    "            sum_two[i][j]=max(sum_two[i][j],0)\n",
    "    return sum_two"
   ]
  },
  {
   "cell_type": "code",
   "execution_count": 91,
   "id": "da496042-c97e-41d2-b24f-393b5770634a",
   "metadata": {},
   "outputs": [],
   "source": [
    "def corr2d(X,param_w,param_b):\n",
    "    windows_size=3\n",
    "    Y=nd.zeros((X.shape[0],windows_size,param_w.shape[1]))\n",
    "    for i in range(X.shape[0]):\n",
    "        if(i+windows_size>=X.shape[0]):\n",
    "            break\n",
    "        Y[i]=conv_activation(param_w,param_b,X[i:i+windows_size])\n",
    "    #print(param_w)\n",
    "    #print(param_b)\n",
    "    #print(X[0:3])\n",
    "    #print(conv_activation(param_w,param_b,X[0:3]))\n",
    "    return Y"
   ]
  },
  {
   "cell_type": "code",
   "execution_count": 127,
   "id": "65472c1e-1bea-47ec-b7d3-dcedf10add8f",
   "metadata": {},
   "outputs": [],
   "source": [
    "#def init_params():\n",
    "    conv_one_W=nd.zeros((20,3))\n",
    "    conv_one_W=nd.random.normal(scale=0.01,shape=(conv_one_W.shape))\n",
    "    conv_one_W.reshape(20,3)\n",
    "\n",
    "    conv_one_B=nd.zeros((3,3))\n",
    "    conv_one_B=nd.random.normal(scale=0.01,shape=(conv_one_B.shape))\n",
    "    conv_one_B.reshape((3,3))\n",
    "    \n",
    "    conv_two_W=nd.zeros((9,3))\n",
    "    conv_two_W=nd.random.normal(scale=0.01,shape=(conv_two_W.shape))\n",
    "    conv_two_W.reshape(9,3)\n",
    "\n",
    "    conv_two_B=nd.zeros((3,3))\n",
    "    conv_two_B=nd.random.normal(scale=0.01,shape=(conv_two_B.shape))\n",
    "\n",
    "    conv_three_W=nd.zeros((9,3))\n",
    "    conv_three_W=nd.random.normal(scale=0.01,shape=(conv_three_W.shape))\n",
    "\n",
    "    conv_three_B=nd.zeros((3,3))\n",
    "    conv_three_B=nd.random.normal(scale=0.01,shape=(conv_three_B.shape))\n",
    "\n",
    "    conv_four_W=nd.zeros((9,1))\n",
    "    conv_four_W=nd.random.normal(scale=0.01,shape=(conv_four_W.shape))\n",
    "\n",
    "    conv_four_B=nd.zeros(1)\n",
    "    conv_four_B=nd.random.normal(scale=0.01,shape=(conv_four_B.shape))\n",
    "\n",
    "    ful_connect_W=nd.zeros((100,80))\n",
    "    ful_connect_W=nd.random.normal(scale=0.01,shape=(ful_connect_W.shape))\n",
    "\n",
    "    ful_connect_B=nd.zeros((80,1))\n",
    "    ful_connect_B=nd.random.normal(scale=0.01,shape=(ful_connect_B.shape))\n",
    "    params=[conv_one_W,conv_one_B,conv_two_W,conv_two_B,conv_three_W,conv_three_B,conv_four_W,conv_four_B,ful_connect_W,ful_connect_B]"
   ]
  },
  {
   "cell_type": "code",
   "execution_count": 128,
   "id": "386353ca-6b28-4989-920b-cb3f56ee65e9",
   "metadata": {},
   "outputs": [
    {
     "data": {
      "text/plain": [
       "\n",
       "[[-0.00444899 -0.04833873 -0.02294277 ... -0.05144757 -0.04110778\n",
       "   0.03808663]\n",
       " [-0.04747263 -0.04139907  0.05662791 ...  0.05022499  0.05975234\n",
       "   0.01550107]\n",
       " [-0.0512113  -0.05087195 -0.0572409  ...  0.05638169  0.01442534\n",
       "   0.06596167]\n",
       " ...\n",
       " [-0.00444899 -0.04833873 -0.02294277 ... -0.05144757 -0.04110778\n",
       "   0.03808663]\n",
       " [-0.00444899 -0.04833873 -0.02294277 ... -0.05144757 -0.04110778\n",
       "   0.03808663]\n",
       " [-0.00444899 -0.04833873 -0.02294277 ... -0.05144757 -0.04110778\n",
       "   0.03808663]]\n",
       "<NDArray 800x20 @cpu(0)>"
      ]
     },
     "execution_count": 128,
     "metadata": {},
     "output_type": "execute_result"
    }
   ],
   "source": [
    "dataset,wordNum=read_file_data(\"data/1/1_cnn.lex\")\n",
    "dataset.shape\n",
    "embedding=nn.Embedding(len(dataset),20)\n",
    "embedding.initialize()\n",
    "embedding.weight\n",
    "X=embedding(dataset)\n",
    "X=X.reshape(800,20)\n",
    "X"
   ]
  },
  {
   "cell_type": "code",
   "execution_count": null,
   "id": "ef52dd8f-98b7-461d-9f49-cdb7889e4661",
   "metadata": {},
   "outputs": [],
   "source": [
    "class CNNCodeRecheck(nn.Block):\n",
    "    def __init__(self,vocab,embed_size,kernel_sizes,num_channels,**kwargs):\n",
    "        self.embedding=nn.Embedding(len(vocab),embed_size)\n",
    "        "
   ]
  },
  {
   "cell_type": "code",
   "execution_count": 129,
   "id": "5d0fa434-745f-40e1-b308-ae6578b22079",
   "metadata": {},
   "outputs": [
    {
     "name": "stdout",
     "output_type": "stream",
     "text": [
      "\n",
      "[[ 0.00044488 -0.00117451 -0.00020141]\n",
      " [ 0.00307651 -0.00185747  0.00227273]\n",
      " [-0.00442802 -0.00027863  0.00338851]]\n",
      "<NDArray 3x3 @cpu(0)>\n",
      "\n",
      "[[ 0.00144286 -0.01161441 -0.00456803]\n",
      " [-0.01935882 -0.00374308  0.0148262 ]\n",
      " [ 0.0041862   0.00381839 -0.00318647]]\n",
      "<NDArray 3x3 @cpu(0)>\n",
      "\n",
      "[[ 0.00188773 -0.01278892 -0.00476943]\n",
      " [-0.01628231 -0.00560055  0.01709892]\n",
      " [-0.00024183  0.00353976  0.00020203]]\n",
      "<NDArray 3x3 @cpu(0)>\n"
     ]
    }
   ],
   "source": [
    "#Y=corr2d(X,3,4,1,W,B)\n",
    "#print(conv_one_W[0])\n",
    "#print(X[0:3])\n",
    "#print(conv_one_W[0].reshape(1,-1))\n",
    "#print(conv_one_B[0])\n",
    "#print(X[0:3].T)\n",
    "temp=nd.dot(X[0:3],conv_one_W)\n",
    "print(temp)\n",
    "print(conv_one_B)\n",
    "print(temp+conv_one_B)"
   ]
  },
  {
   "cell_type": "code",
   "execution_count": 130,
   "id": "833df08d-fef6-4d8a-ae8c-589c7e6efdd8",
   "metadata": {},
   "outputs": [
    {
     "data": {
      "text/plain": [
       "\n",
       "[[[0.00188773 0.         0.        ]\n",
       "  [0.         0.         0.01709892]\n",
       "  [0.         0.00353976 0.00020203]]\n",
       "\n",
       " [[0.00451937 0.         0.        ]\n",
       "  [0.         0.         0.0182147 ]\n",
       "  [0.00327746 0.00821725 0.        ]]\n",
       "\n",
       " [[0.         0.         0.        ]\n",
       "  [0.         0.00065578 0.01658103]\n",
       "  [0.00547394 0.00186209 0.        ]]\n",
       "\n",
       " [[0.00053412 0.         0.        ]\n",
       "  [0.         0.         0.01448767]\n",
       "  [0.00327746 0.00821725 0.        ]]\n",
       "\n",
       " [[0.0027306  0.         0.        ]\n",
       "  [0.         0.00065578 0.01658103]\n",
       "  [0.00463338 0.00053462 0.        ]]]\n",
       "<NDArray 5x3x3 @cpu(0)>"
      ]
     },
     "execution_count": 130,
     "metadata": {},
     "output_type": "execute_result"
    }
   ],
   "source": [
    "d=corr2d(X,conv_one_W,conv_one_B)\n",
    "d[0:5]"
   ]
  },
  {
   "cell_type": "code",
   "execution_count": 131,
   "id": "a9a9536f-8616-4fc1-b391-784bd0202702",
   "metadata": {},
   "outputs": [
    {
     "name": "stdout",
     "output_type": "stream",
     "text": [
      "\n",
      "[[[0.00188773 0.         0.        ]\n",
      "  [0.         0.         0.01709892]\n",
      "  [0.         0.00353976 0.00020203]]\n",
      "\n",
      " [[0.00451937 0.         0.        ]\n",
      "  [0.         0.         0.0182147 ]\n",
      "  [0.00327746 0.00821725 0.        ]]\n",
      "\n",
      " [[0.         0.         0.        ]\n",
      "  [0.         0.00065578 0.01658103]\n",
      "  [0.00547394 0.00186209 0.        ]]]\n",
      "<NDArray 3x3x3 @cpu(0)>\n",
      "\n",
      "[[0.00188773 0.         0.         0.         0.         0.01709892\n",
      "  0.         0.00353976 0.00020203]\n",
      " [0.00451937 0.         0.         0.         0.         0.0182147\n",
      "  0.00327746 0.00821725 0.        ]\n",
      " [0.         0.         0.         0.         0.00065578 0.01658103\n",
      "  0.00547394 0.00186209 0.        ]]\n",
      "<NDArray 3x9 @cpu(0)>\n",
      "\n",
      "[[1.8877342e-03 0.0000000e+00 0.0000000e+00 0.0000000e+00 0.0000000e+00\n",
      "  1.7098922e-02 0.0000000e+00 3.5397599e-03 2.0203250e-04]\n",
      " [4.5193685e-03 0.0000000e+00 0.0000000e+00 0.0000000e+00 0.0000000e+00\n",
      "  1.8214701e-02 3.2774601e-03 8.2172519e-03 0.0000000e+00]\n",
      " [0.0000000e+00 0.0000000e+00 0.0000000e+00 0.0000000e+00 6.5577775e-04\n",
      "  1.6581032e-02 5.4739434e-03 1.8620926e-03 0.0000000e+00]\n",
      " [5.3412060e-04 0.0000000e+00 0.0000000e+00 0.0000000e+00 0.0000000e+00\n",
      "  1.4487669e-02 3.2774601e-03 8.2172519e-03 0.0000000e+00]\n",
      " [2.7306036e-03 0.0000000e+00 0.0000000e+00 0.0000000e+00 6.5577775e-04\n",
      "  1.6581032e-02 4.6333806e-03 5.3462386e-04 0.0000000e+00]\n",
      " [5.3412060e-04 0.0000000e+00 0.0000000e+00 0.0000000e+00 0.0000000e+00\n",
      "  1.6146231e-02 2.8254623e-03 2.9522569e-03 0.0000000e+00]\n",
      " [1.8900409e-03 0.0000000e+00 0.0000000e+00 0.0000000e+00 0.0000000e+00\n",
      "  1.7872358e-02 4.3744300e-03 3.1670539e-03 0.0000000e+00]\n",
      " [8.2122628e-05 0.0000000e+00 0.0000000e+00 0.0000000e+00 0.0000000e+00\n",
      "  1.4509289e-02 0.0000000e+00 3.5397599e-03 2.0203250e-04]\n",
      " [1.6310905e-03 0.0000000e+00 0.0000000e+00 0.0000000e+00 0.0000000e+00\n",
      "  1.8214701e-02 5.5036326e-03 4.0190886e-03 0.0000000e+00]\n",
      " [0.0000000e+00 0.0000000e+00 0.0000000e+00 0.0000000e+00 0.0000000e+00\n",
      "  1.3379185e-02 3.2774601e-03 8.2172519e-03 0.0000000e+00]]\n",
      "<NDArray 10x9 @cpu(0)>\n"
     ]
    }
   ],
   "source": [
    "dd=d[0:3]\n",
    "print(dd)\n",
    "print(nd.flatten(dd))\n",
    "d_flatten=nd.flatten(d)\n",
    "print(d_flatten[0:10])"
   ]
  },
  {
   "cell_type": "code",
   "execution_count": 132,
   "id": "a09fc04d-050f-4658-89d5-871572551be3",
   "metadata": {},
   "outputs": [],
   "source": [
    "def myMax(X_one,X_two):\n",
    "    sum_one=X_one.sum()\n",
    "    sum_two=X_two.sum()\n",
    "    if sum_one>sum_two:\n",
    "        return X_one\n",
    "    else :\n",
    "        return X_two"
   ]
  },
  {
   "cell_type": "code",
   "execution_count": 133,
   "id": "0ceb7e32-c0ba-4267-9136-7eec3b7f6038",
   "metadata": {},
   "outputs": [],
   "source": [
    "def max_pool(X):\n",
    "    temp= int(X.shape[0]/2)\n",
    "    Y=nd.zeros((temp,X.shape[1]))\n",
    "    j=0\n",
    "    for i in range(X.shape[0]-1):\n",
    "        if i%2==0:\n",
    "            Y[j]=myMax(X[i],X[i+1])\n",
    "            j+=1\n",
    "    return Y"
   ]
  },
  {
   "cell_type": "code",
   "execution_count": 134,
   "id": "b9c29a56-5cdd-4785-9d48-479c38641016",
   "metadata": {},
   "outputs": [
    {
     "name": "stdout",
     "output_type": "stream",
     "text": [
      "\n",
      "[0.00451937 0.         0.         0.         0.         0.0182147\n",
      " 0.00327746 0.00821725 0.        ]\n",
      "<NDArray 9 @cpu(0)>\n"
     ]
    },
    {
     "data": {
      "text/plain": [
       "(400, 9)"
      ]
     },
     "execution_count": 134,
     "metadata": {},
     "output_type": "execute_result"
    }
   ],
   "source": [
    "pool_val_one=max_pool(d_flatten)\n",
    "print(myMax(d_flatten[0],d_flatten[1]))\n",
    "pool_val_one.shape"
   ]
  },
  {
   "cell_type": "code",
   "execution_count": 120,
   "id": "c7c6bb94-007d-46bc-b500-5a17c11c14e8",
   "metadata": {},
   "outputs": [
    {
     "name": "stdout",
     "output_type": "stream",
     "text": [
      "\n",
      "[ 3.3291893e-03 -3.8716811e-05  1.9097947e-02]\n",
      "<NDArray 3 @cpu(0)>\n",
      "\n",
      "[ 0.01652922  0.00443857 -0.00259055]\n",
      "<NDArray 3 @cpu(0)>\n",
      "\n",
      "[[0.         0.         0.         0.01009037 0.         0.\n",
      "  0.00165498 0.         0.        ]\n",
      " [0.         0.         0.         0.00540381 0.         0.00152518\n",
      "  0.00173576 0.         0.        ]\n",
      " [0.         0.         0.         0.00486081 0.         0.0002222\n",
      "  0.00559393 0.         0.        ]]\n",
      "<NDArray 3x9 @cpu(0)>\n"
     ]
    }
   ],
   "source": [
    "print(conv_two_W[0])\n",
    "print(conv_two_B[0])\n",
    "print(pool_val_one[0:3])\n",
    "#print(nd.dot(pool_val_one[1:3],conv_two_W)+conv_two_B)"
   ]
  },
  {
   "cell_type": "code",
   "execution_count": 135,
   "id": "9f518d98-afe5-4330-a466-fccd1511b2b0",
   "metadata": {},
   "outputs": [
    {
     "name": "stdout",
     "output_type": "stream",
     "text": [
      "\n",
      "[[[0.00933629 0.00989415 0.0030451 ]\n",
      "  [0.         0.00848063 0.        ]\n",
      "  [0.00188003 0.00893279 0.01192988]]\n",
      "\n",
      " [[0.00925838 0.00982802 0.00294265]\n",
      "  [0.         0.00834637 0.        ]\n",
      "  [0.00185724 0.00901299 0.01192605]]\n",
      "\n",
      " [[0.00939395 0.00969377 0.00299925]\n",
      "  [0.         0.00842658 0.        ]\n",
      "  [0.00185917 0.00902355 0.01193471]]\n",
      "\n",
      " ...\n",
      "\n",
      " [[0.         0.         0.        ]\n",
      "  [0.         0.         0.        ]\n",
      "  [0.         0.         0.        ]]\n",
      "\n",
      " [[0.         0.         0.        ]\n",
      "  [0.         0.         0.        ]\n",
      "  [0.         0.         0.        ]]\n",
      "\n",
      " [[0.         0.         0.        ]\n",
      "  [0.         0.         0.        ]\n",
      "  [0.         0.         0.        ]]]\n",
      "<NDArray 400x3x3 @cpu(0)>\n",
      "\n",
      "[[0.00933629 0.00989415 0.0030451  ... 0.00188003 0.00893279 0.01192988]\n",
      " [0.00925838 0.00982802 0.00294265 ... 0.00185724 0.00901299 0.01192605]\n",
      " [0.00939395 0.00969377 0.00299925 ... 0.00185917 0.00902355 0.01193471]\n",
      " ...\n",
      " [0.         0.         0.         ... 0.         0.         0.        ]\n",
      " [0.         0.         0.         ... 0.         0.         0.        ]\n",
      " [0.         0.         0.         ... 0.         0.         0.        ]]\n",
      "<NDArray 400x9 @cpu(0)>\n"
     ]
    }
   ],
   "source": [
    "conv_val_two=corr2d(pool_val_one,conv_two_W,conv_two_B)\n",
    "print(conv_val_two)\n",
    "conv_val_two_flatten=nd.flatten(conv_val_two)\n",
    "print(conv_val_two_flatten)"
   ]
  },
  {
   "cell_type": "code",
   "execution_count": 136,
   "id": "1f56251c-71a5-4462-965f-83e4d55d6c1e",
   "metadata": {},
   "outputs": [
    {
     "data": {
      "text/plain": [
       "(200, 9)"
      ]
     },
     "execution_count": 136,
     "metadata": {},
     "output_type": "execute_result"
    }
   ],
   "source": [
    "pool_val_two=max_pool(conv_val_two_flatten)\n",
    "pool_val_two.shape"
   ]
  },
  {
   "cell_type": "code",
   "execution_count": 137,
   "id": "a81b3f81-5970-406b-ba9b-36ac70698442",
   "metadata": {},
   "outputs": [
    {
     "data": {
      "text/plain": [
       "(200, 9)"
      ]
     },
     "execution_count": 137,
     "metadata": {},
     "output_type": "execute_result"
    }
   ],
   "source": [
    "conv_val_three=corr2d(pool_val_two,conv_three_W,conv_three_B)\n",
    "conv_val_three=nd.flatten(conv_val_three)\n",
    "conv_val_three.shape"
   ]
  },
  {
   "cell_type": "code",
   "execution_count": null,
   "id": "e737925c-5f1f-4817-94a1-441d35b221fb",
   "metadata": {},
   "outputs": [],
   "source": [
    "print(conv_three_B[8])\n",
    "print(conv_three_W[8].reshape(3,-1))\n",
    "print(nd.dot(conv_three_W[8].reshape(1,-1),pool_val_two[8].reshape(3,-1))+conv_three_B[8])"
   ]
  },
  {
   "cell_type": "code",
   "execution_count": null,
   "id": "9ee3e7ab-6083-4f4f-ade6-50848a4743b3",
   "metadata": {},
   "outputs": [],
   "source": [
    "conv_val_three[0:30]"
   ]
  },
  {
   "cell_type": "code",
   "execution_count": 138,
   "id": "f74e89fe-adba-4b03-bd5a-83acc5ebee92",
   "metadata": {},
   "outputs": [],
   "source": [
    "pool_val_three=max_pool(conv_val_three)"
   ]
  },
  {
   "cell_type": "code",
   "execution_count": 151,
   "id": "2cb305fc-b70f-45da-9790-badc2aa8bd38",
   "metadata": {},
   "outputs": [
    {
     "data": {
      "text/plain": [
       "(100, 3, 1)"
      ]
     },
     "execution_count": 151,
     "metadata": {},
     "output_type": "execute_result"
    }
   ],
   "source": [
    "print(pool_val_three.shape)\n",
    "conv_val_four=corr2d(pool_val_three,conv_four_W,conv_four_B)\n",
    "print(conv_val_four.shape)"
   ]
  },
  {
   "cell_type": "code",
   "execution_count": null,
   "id": "74d37f4a-a2f4-43cc-b13f-3c20f0101b0d",
   "metadata": {},
   "outputs": [],
   "source": [
    "dense_one=nn.Dense(in_units=100,units=80)\n",
    "dense_one.initialize()"
   ]
  },
  {
   "cell_type": "code",
   "execution_count": 143,
   "id": "45b828f0-a88a-4ca1-8d0b-e22f19d74bd3",
   "metadata": {},
   "outputs": [],
   "source": [
    "def ful_connect_layer(X,W,B):\n",
    "    Y=nd.zeros(W.shape[1])\n",
    "    Y=nd.dot(X.T,W).T+B\n",
    "    return Y.tanh()\n"
   ]
  },
  {
   "cell_type": "code",
   "execution_count": 148,
   "id": "5a2f9bca-fe0c-42c2-b648-c697ad5fddd7",
   "metadata": {},
   "outputs": [
    {
     "name": "stdout",
     "output_type": "stream",
     "text": [
      "(9, 100)\n",
      "(100, 80)\n",
      "(80, 1)\n",
      "\n",
      "[[-0.00225954]\n",
      " [-0.00203181]\n",
      " [-0.00097158]\n",
      " [-0.00225954]\n",
      " [-0.00225954]\n",
      " [-0.00225954]\n",
      " [-0.00097583]\n",
      " [-0.0006944 ]\n",
      " [-0.00225954]]\n",
      "<NDArray 9x1 @cpu(0)>\n",
      "\n",
      "[[-0.00225953]\n",
      " [-0.00203181]\n",
      " [-0.00097158]\n",
      " [-0.00225953]\n",
      " [-0.00225953]\n",
      " [-0.00225953]\n",
      " [-0.00097583]\n",
      " [-0.0006944 ]\n",
      " [-0.00225953]]\n",
      "<NDArray 9x1 @cpu(0)>\n"
     ]
    },
    {
     "data": {
      "text/plain": [
       "\n",
       "[[-0.00060363 -0.00060363 -0.00060363]\n",
       " [ 0.00132999  0.00132999  0.00132999]\n",
       " [-0.00326257 -0.00326257 -0.00326257]\n",
       " [ 0.00970991  0.00970991  0.00970991]\n",
       " [-0.00176499 -0.00176499 -0.00176499]\n",
       " [-0.00726583 -0.00726583 -0.00726583]\n",
       " [ 0.00446002  0.00446002  0.00446002]\n",
       " [ 0.0018074   0.0018074   0.0018074 ]\n",
       " [-0.00604989 -0.00604989 -0.00604989]\n",
       " [-0.00973386 -0.00973386 -0.00973386]\n",
       " [ 0.02079339  0.02079339  0.02079339]\n",
       " [ 0.00337882  0.00337881  0.00337882]\n",
       " [ 0.00302371  0.00302371  0.0030237 ]\n",
       " [-0.00106487 -0.00106487 -0.00106487]\n",
       " [-0.00973738 -0.00973738 -0.00973738]\n",
       " [ 0.00340505  0.00340505  0.00340505]\n",
       " [ 0.00984613  0.00984613  0.00984613]\n",
       " [ 0.00202427  0.00202427  0.00202427]\n",
       " [ 0.0024935   0.0024935   0.0024935 ]\n",
       " [ 0.00729883  0.00729883  0.00729883]\n",
       " [-0.00947479 -0.00947479 -0.00947479]\n",
       " [-0.0132782  -0.0132782  -0.0132782 ]\n",
       " [ 0.00347801  0.00347801  0.00347801]\n",
       " [ 0.02502973  0.02502973  0.02502973]\n",
       " [-0.01571432 -0.01571432 -0.01571432]\n",
       " [ 0.00033531  0.00033531  0.00033531]\n",
       " [-0.00219087 -0.00219087 -0.00219087]\n",
       " [-0.01363244 -0.01363244 -0.01363244]\n",
       " [ 0.00458344  0.00458344  0.00458344]\n",
       " [-0.00078838 -0.00078838 -0.00078838]\n",
       " [ 0.00538373  0.00538373  0.00538373]\n",
       " [-0.00795639 -0.00795639 -0.00795639]\n",
       " [ 0.00364376  0.00364376  0.00364376]\n",
       " [ 0.00964202  0.00964202  0.00964202]\n",
       " [-0.00227914 -0.00227914 -0.00227914]\n",
       " [-0.00110093 -0.00110093 -0.00110093]\n",
       " [ 0.00173237  0.00173237  0.00173237]\n",
       " [-0.01095262 -0.01095262 -0.01095262]\n",
       " [ 0.00924163  0.00924163  0.00924163]\n",
       " [ 0.00414062  0.00414062  0.00414062]\n",
       " [-0.00030225 -0.00030225 -0.00030225]\n",
       " [-0.02905294 -0.02905294 -0.02905294]\n",
       " [-0.01703631 -0.01703631 -0.01703631]\n",
       " [-0.00815696 -0.00815696 -0.00815696]\n",
       " [ 0.01286794  0.01286794  0.01286794]\n",
       " [ 0.00191316  0.00191316  0.00191316]\n",
       " [-0.00591548 -0.00591548 -0.00591548]\n",
       " [-0.00034919 -0.00034919 -0.00034919]\n",
       " [ 0.01246214  0.01246214  0.01246214]\n",
       " [-0.01397614 -0.01397614 -0.01397614]\n",
       " [-0.00080697 -0.00080697 -0.00080697]\n",
       " [ 0.00029025  0.00029025  0.00029026]\n",
       " [-0.01392781 -0.01392781 -0.01392781]\n",
       " [-0.00559211 -0.00559211 -0.00559211]\n",
       " [-0.00507487 -0.00507487 -0.00507487]\n",
       " [-0.01211756 -0.01211755 -0.01211755]\n",
       " [ 0.01008133  0.01008133  0.01008133]\n",
       " [ 0.00073286  0.00073287  0.00073286]\n",
       " [-0.00973673 -0.00973673 -0.00973673]\n",
       " [-0.00237791 -0.00237791 -0.00237791]\n",
       " [-0.01750325 -0.01750325 -0.01750325]\n",
       " [ 0.00735769  0.00735769  0.00735769]\n",
       " [ 0.00128345  0.00128345  0.00128345]\n",
       " [-0.00893795 -0.00893795 -0.00893795]\n",
       " [ 0.00707413  0.00707413  0.00707414]\n",
       " [-0.00332684 -0.00332684 -0.00332684]\n",
       " [-0.01829525 -0.01829525 -0.01829525]\n",
       " [ 0.00668395  0.00668395  0.00668395]\n",
       " [-0.00233852 -0.00233852 -0.00233852]\n",
       " [ 0.00077633  0.00077633  0.00077633]\n",
       " [ 0.0064505   0.0064505   0.0064505 ]\n",
       " [-0.00098191 -0.00098191 -0.00098191]\n",
       " [-0.0211827  -0.0211827  -0.0211827 ]\n",
       " [-0.00397719 -0.00397719 -0.00397719]\n",
       " [-0.01183771 -0.01183771 -0.01183771]\n",
       " [ 0.01920856  0.01920856  0.01920856]\n",
       " [ 0.00441166  0.00441166  0.00441166]\n",
       " [-0.00130346 -0.00130346 -0.00130346]\n",
       " [-0.02724219 -0.0272422  -0.0272422 ]\n",
       " [ 0.00567407  0.00567407  0.00567407]]\n",
       "<NDArray 80x3 @cpu(0)>"
      ]
     },
     "execution_count": 148,
     "metadata": {},
     "output_type": "execute_result"
    }
   ],
   "source": [
    "print(pool_val_three.T.shape)\n",
    "print(ful_connect_W.shape)\n",
    "print(ful_connect_B.shape)\n",
    "s1=ful_connect_W.T[0].reshape((100,-1))\n",
    "#print(s1)\n",
    "ss=nd.dot(pool_val_three.T,s1)+ful_connect_B[0]\n",
    "print(ss)\n",
    "print(ss.tanh())\n",
    "ful_connect_val=ful_connect_layer(conv_val_four,ful_connect_W,ful_connect_B)\n",
    "ful_connect_val"
   ]
  },
  {
   "cell_type": "code",
   "execution_count": null,
   "id": "50b069dd-6c47-41f1-9364-ef4f460846be",
   "metadata": {},
   "outputs": [],
   "source": [
    "\n",
    "    "
   ]
  },
  {
   "cell_type": "code",
   "execution_count": null,
   "id": "180e57e5-c034-4902-af8b-f0c7a3b49036",
   "metadata": {},
   "outputs": [],
   "source": [
    "conv_layer_one_W=nd.zeros((800,4))\n",
    "conv_layer_one_W=nd.random.normal(scale=0.01,shape=(conv_one_W.shape))\n",
    "conv_layer_one_W.reshape(800,4)\n",
    "conv_layer_one_B=nd.zeros((800,1))\n",
    "conv_layer_one_B=nd.random.normal(scale=0.01,shape=(conv_one_B.shape))\n",
    "\n",
    "conv_layer_two_W=nd.zeros((400,3))\n",
    "conv_layer_two_W=nd.random.normal(scale=0.01,shape=(conv_two_W.shape))\n",
    "conv_layer_two_W.reshape(400,3)\n",
    "conv_layer_two_B=nd.zeros((400,1))\n",
    "conv_layer_two_B=nd.random.normal(scale=0.01,shape=(conv_two_B.shape))\n",
    "\n",
    "conv_layer_three_W=nd.zeros((200,3))\n",
    "conv_layer_three_W=nd.random.normal(scale=0.01,shape=(conv_three_W.shape))\n",
    "conv_layer_three_B=nd.zeros((200,1))\n",
    "conv_layer_three_B=nd.random.normal(scale=0.01,shape=(conv_three_B.shape))\n",
    "\n",
    "conv_layer_four_W=nd.zeros((100,3))\n",
    "conv_layer_four_W=nd.random.normal(scale=0.01,shape=(conv_four_W.shape))\n",
    "conv_layer_four_B=nd.zeros((100,1))\n",
    "conv_layer_four_B=nd.random.normal(scale=0.01,shape=(conv_four_B.shape))\n",
    "\n",
    "ful_layer_connect_W=nd.zeros((100,80))\n",
    "ful_layer_connect_W=nd.random.normal(scale=0.01,shape=(ful_connect_W.shape))\n",
    "ful_layer_connect_B=nd.zeros((80,1))\n",
    "ful_layer_connect_B=nd.random.normal(scale=0.01,shape=(ful_connect_B.shape))"
   ]
  },
  {
   "cell_type": "code",
   "execution_count": null,
   "id": "f4f31dfe-819d-490b-90c1-e32a3e3b0f8a",
   "metadata": {},
   "outputs": [],
   "source": [
    "params=[conv_layer_one_W,conv_layer_one_B,\n",
    "        conv_layer_two_W,conv_layer_two_B,\n",
    "        conv_layer_three_W,conv_layer_three_B,\n",
    "        conv_layer_four_W,conv_layer_four_B,\n",
    "       ful_layer_connect_W,ful_layer_connect_B]"
   ]
  },
  {
   "cell_type": "code",
   "execution_count": null,
   "id": "0b7fac42-c060-46c3-ae88-3abeae73c25d",
   "metadata": {},
   "outputs": [],
   "source": [
    "def save_params(params,filePath):\n",
    "    layer_one_W,layer_one_B,layer_two_W,layer_two_B,layer_three_W,layer_three_B,layer_four_W,layer_four_B,layer_connect_W,layer_connect_B=params\n",
    "    file=filePath\n",
    "    nd.save(file+'conv_layer_one_W.txt',layer_one_W)\n",
    "    nd.save(file+'conv_layer_one_B.txt',layer_one_B)\n",
    "    nd.save(file+'conv_layer_two_W.txt',layer_two_W)\n",
    "    nd.save(file+'conv_layer_two_B.txt',layer_two_B)\n",
    "    nd.save(file+'conv_layer_three_W.txt',layer_three_W)\n",
    "    nd.save(file+'conv_layer_three_B.txt',layer_three_B)\n",
    "    nd.save(file+'conv_layer_four_W.txt',layer_four_W)\n",
    "    nd.save(file+'conv_layer_four_B.txt',layer_four_B)\n",
    "    nd.save(file+'ful_layer_connect_W.txt',layer_connect_W)\n",
    "    nd.save(file+'ful_layer_connect_B.txt',layer_connect_B)\n",
    "    return"
   ]
  },
  {
   "cell_type": "code",
   "execution_count": null,
   "id": "ee5e03e6-fa8a-41c9-8529-6d69bac79c73",
   "metadata": {},
   "outputs": [],
   "source": [
    "filePath=\"data/params\"\n",
    "print(filePath+\"conv_layer_one_W.txt\")"
   ]
  },
  {
   "cell_type": "code",
   "execution_count": null,
   "id": "3a85b0d2-7eb6-40c8-a042-459d185bf5f8",
   "metadata": {},
   "outputs": [],
   "source": [
    "save_params(params,\"data/params/\")"
   ]
  },
  {
   "cell_type": "code",
   "execution_count": null,
   "id": "aaf154fd-60bf-45b7-84c8-0f0159ef74a3",
   "metadata": {},
   "outputs": [],
   "source": [
    "def read_params(filePath):\n",
    "     layer_one_W=nd.load(filePath+'conv_layer_one_W.txt')\n",
    "     layer_one_B=nd.load(filePath+'conv_layer_one_B.txt')\n",
    "     layer_two_W=nd.load(filePath+'conv_layer_two_W.txt')\n",
    "     layer_two_B=nd.load(filePath+'conv_layer_two_B.txt')\n",
    "     layer_three_W=nd.load(filePath+'conv_layer_three_W.txt')\n",
    "     layer_three_B=nd.load(filePath+'conv_layer_three_B.txt')\n",
    "     layer_four_W=nd.load(filePath+'conv_layer_four_W.txt')\n",
    "     layer_four_B=nd.load(filePath+'conv_layer_four_B.txt')\n",
    "     layer_connect_W=nd.load(filePath+'ful_layer_connect_W.txt')\n",
    "     layer_connect_B=nd.load(filePath+'ful_layer_connect_B.txt')\n",
    "     params=[layer_one_W,layer_one_B,layer_two_W,layer_two_B,layer_three_W,layer_three_B,layer_four_W,layer_four_B,layer_connect_W,layer_connect_B]\n",
    "     return params"
   ]
  },
  {
   "cell_type": "code",
   "execution_count": null,
   "id": "af977dba-e800-4761-ab6a-a962ea899554",
   "metadata": {},
   "outputs": [],
   "source": [
    "params=read_params(\"data/params/\")"
   ]
  },
  {
   "cell_type": "code",
   "execution_count": null,
   "id": "c180752f-8b1a-4e1e-9b60-9ba232366357",
   "metadata": {},
   "outputs": [],
   "source": [
    " layer_one_W,layer_one_B,layer_two_W,layer_two_B,layer_three_W,layer_three_B,layer_four_W,layer_four_B,layer_connect_W,layer_connect_B=params"
   ]
  },
  {
   "cell_type": "code",
   "execution_count": null,
   "id": "664a00f3-38a9-485b-9150-c97203151b0c",
   "metadata": {},
   "outputs": [],
   "source": [
    "layer_one_W=layer_one_W[0]"
   ]
  },
  {
   "cell_type": "code",
   "execution_count": null,
   "id": "218eb0c0-8808-456a-919b-67b3fcccebc1",
   "metadata": {},
   "outputs": [],
   "source": [
    "conv_layer_one_W[0]"
   ]
  },
  {
   "cell_type": "code",
   "execution_count": null,
   "id": "c150f464-d456-47ce-a362-0e1b3d6e4c9e",
   "metadata": {},
   "outputs": [],
   "source": [
    "layer_one_W"
   ]
  },
  {
   "cell_type": "code",
   "execution_count": null,
   "id": "7e94738a-5a48-46c2-bfa7-204fa706205e",
   "metadata": {},
   "outputs": [],
   "source": [
    "net=nn.Sequential()\n",
    "net.add(nn.Dense(100))\n",
    "s=nd.zeros((100,1))\n",
    "net.initialize()\n",
    "net(s)"
   ]
  },
  {
   "cell_type": "code",
   "execution_count": null,
   "id": "e4d129be-6aa8-4ebb-bb52-38250a1fa07d",
   "metadata": {},
   "outputs": [],
   "source": [
    "net[0].weight.data()"
   ]
  },
  {
   "cell_type": "code",
   "execution_count": null,
   "id": "c520ad4c-8bac-47d1-b86b-b87083e90209",
   "metadata": {},
   "outputs": [],
   "source": []
  }
 ],
 "metadata": {
  "kernelspec": {
   "display_name": "Python 3",
   "language": "python",
   "name": "python3"
  },
  "language_info": {
   "codemirror_mode": {
    "name": "ipython",
    "version": 3
   },
   "file_extension": ".py",
   "mimetype": "text/x-python",
   "name": "python",
   "nbconvert_exporter": "python",
   "pygments_lexer": "ipython3",
   "version": "3.6.13"
  }
 },
 "nbformat": 4,
 "nbformat_minor": 5
}
