{
 "cells": [
  {
   "cell_type": "code",
   "execution_count": 1,
   "id": "f772669f-3ad8-4855-a72a-41b00ccbb359",
   "metadata": {},
   "outputs": [],
   "source": [
    "from mxnet import nd\n",
    "import random\n",
    "import zipfile\n",
    "import collections\n",
    "import d2lzh as d2l\n",
    "import math\n",
    "from mxnet import autograd,gluon,nd\n",
    "from mxnet.gluon import data as gdata,loss as gloss,nn\n",
    "import random\n",
    "import sys\n",
    "import time\n",
    "import zipfile\n",
    "import numpy as np"
   ]
  },
  {
   "cell_type": "code",
   "execution_count": 2,
   "id": "3ff657e3-2ca0-422c-aa02-a38b613c126f",
   "metadata": {},
   "outputs": [],
   "source": [
    "def read_file_data(filePath):\n",
    "    f=open(filePath)\n",
    "    lines=f.readlines()\n",
    "    raw_dataset=[st.split() for st in lines]\n",
    "    wordNum=0;\n",
    "    for st in raw_dataset:\n",
    "         for wt in st:\n",
    "            wordNum+=1\n",
    "    #input_matrix=nd.array(raw_dataset)\n",
    "    counter=collections.Counter([tk for st in raw_dataset for tk in st])\n",
    "    idx_to_token=[tk for tk,_ in counter.items()]\n",
    "    token_to_idx={tk:idx for idx, tk in enumerate(idx_to_token)}\n",
    "    dataset=[[[token_to_idx[tk] for tk in st if tk in token_to_idx]] for st in raw_dataset]\n",
    "    dict_size=800\n",
    "    dataset=np.array(dataset)\n",
    "    temp=np.array([])\n",
    "    for row in dataset:\n",
    "        for col in row:\n",
    "            temp=np.append(temp,np.array(col))\n",
    "    zeros=np.zeros(dict_size-wordNum)\n",
    "    temp=np.append(temp,zeros)\n",
    "    temp=nd.array(temp)\n",
    "    temp.shape\n",
    "    temp=temp.reshape(800,-1)\n",
    "    return temp,wordNum"
   ]
  },
  {
   "cell_type": "code",
   "execution_count": 4,
   "id": "e19cdf0b-66e6-488d-b2ec-5d036ea06db6",
   "metadata": {},
   "outputs": [],
   "source": [
    "def conv_activation(w,b,z):\n",
    "    sum=0;\n",
    "    for t in z:\n",
    "        sum+=t.sum()\n",
    "    if sum==0:\n",
    "        return 0\n",
    "    temp=nd.dot(w,z)\n",
    "    sum_two=temp+b\n",
    "    for i in range(sum_two.shape[0]):\n",
    "        for j in range(sum_two.shape[1]):\n",
    "            sum_two[i][j]=max(sum_two[i][j],0)\n",
    "    return sum_two"
   ]
  },
  {
   "cell_type": "code",
   "execution_count": 5,
   "id": "da496042-c97e-41d2-b24f-393b5770634a",
   "metadata": {},
   "outputs": [],
   "source": [
    "def corr2d(X,windows_size,kernel_w,kernel_h,param_w,param_b):\n",
    "    Y=nd.zeros((X.shape[0],windows_size))\n",
    "    for i in range(X.shape[0]):\n",
    "        if(i+windows_size>=X.shape[0]):\n",
    "            break\n",
    "        Y[i]=conv_activation(param_w[i].reshape(1,-1),param_b[i],X[i:i+windows_size].T)\n",
    "    return Y"
   ]
  },
  {
   "cell_type": "code",
   "execution_count": 33,
   "id": "65472c1e-1bea-47ec-b7d3-dcedf10add8f",
   "metadata": {},
   "outputs": [],
   "source": [
    "conv_one_W=nd.zeros((800,4))\n",
    "conv_one_W=nd.random.normal(scale=0.01,shape=(conv_one_W.shape))\n",
    "conv_one_W.reshape(800,4)\n",
    "\n",
    "conv_one_B=nd.zeros((800,1))\n",
    "conv_one_B=nd.random.normal(scale=0.01,shape=(conv_one_B.shape))\n",
    "\n",
    "conv_two_W=nd.zeros((400,3))\n",
    "conv_two_W=nd.random.normal(scale=0.01,shape=(conv_two_W.shape))\n",
    "conv_two_W.reshape(400,3)\n",
    "\n",
    "conv_two_B=nd.zeros((400,1))\n",
    "conv_two_B=nd.random.normal(scale=0.01,shape=(conv_two_B.shape))\n",
    "\n",
    "conv_three_W=nd.zeros((200,3))\n",
    "conv_three_W=nd.random.normal(scale=0.01,shape=(conv_three_W.shape))\n",
    "\n",
    "conv_three_B=nd.zeros((200,1))\n",
    "conv_three_B=nd.random.normal(scale=0.01,shape=(conv_three_B.shape))\n",
    "\n",
    "conv_four_W=nd.zeros((100,3))\n",
    "conv_four_W=nd.random.normal(scale=0.01,shape=(conv_four_W.shape))\n",
    "\n",
    "conv_four_B=nd.zeros((100,1))\n",
    "conv_four_B=nd.random.normal(scale=0.01,shape=(conv_four_B.shape))\n",
    "\n",
    "ful_connect_W=nd.zeros((100,80))\n",
    "ful_connect_W=nd.random.normal(scale=0.01,shape=(ful_connect_W.shape))\n",
    "\n",
    "ful_connect_B=nd.zeros((80,1))\n",
    "ful_connect_B=nd.random.normal(scale=0.01,shape=(ful_connect_B.shape))"
   ]
  },
  {
   "cell_type": "code",
   "execution_count": 7,
   "id": "386353ca-6b28-4989-920b-cb3f56ee65e9",
   "metadata": {},
   "outputs": [
    {
     "data": {
      "text/plain": [
       "\n",
       "[[ 0.05408265  0.01371115 -0.00750478 -0.03667391]\n",
       " [ 0.05710258  0.01132422 -0.04756773 -0.04957818]\n",
       " [ 0.02255645 -0.02301166 -0.00836308  0.01757392]\n",
       " ...\n",
       " [ 0.05408265  0.01371115 -0.00750478 -0.03667391]\n",
       " [ 0.05408265  0.01371115 -0.00750478 -0.03667391]\n",
       " [ 0.05408265  0.01371115 -0.00750478 -0.03667391]]\n",
       "<NDArray 800x4 @cpu(0)>"
      ]
     },
     "execution_count": 7,
     "metadata": {},
     "output_type": "execute_result"
    }
   ],
   "source": [
    "dataset,wordNum=read_file_data(\"data/1/1_cnn.lex\")\n",
    "dataset.shape\n",
    "embedding=nn.Embedding(len(dataset),4)\n",
    "embedding.initialize()\n",
    "embedding.weight\n",
    "X=embedding(dataset)\n",
    "X=X.reshape(800,4)\n",
    "X"
   ]
  },
  {
   "cell_type": "code",
   "execution_count": 166,
   "id": "ef52dd8f-98b7-461d-9f49-cdb7889e4661",
   "metadata": {},
   "outputs": [
    {
     "data": {
      "text/plain": [
       "(100, 10)"
      ]
     },
     "execution_count": 166,
     "metadata": {},
     "output_type": "execute_result"
    }
   ],
   "source": [
    "class CNNCodeRecheck(nn.Block):\n",
    "    def __init__(self,vocab,embed_size,kernel_sizes,num_channels,**kwargs):\n",
    "        self.embedding=nn.Embedding(len(vocab),embed_size)\n",
    "        "
   ]
  },
  {
   "cell_type": "code",
   "execution_count": 222,
   "id": "5d0fa434-745f-40e1-b308-ae6578b22079",
   "metadata": {},
   "outputs": [
    {
     "name": "stdout",
     "output_type": "stream",
     "text": [
      "\n",
      "[-0.00171092  0.00268309  0.0010522  -0.00248024]\n",
      "<NDArray 4 @cpu(0)>\n",
      "\n",
      "[[-0.0394582   0.05357032 -0.03703651 -0.03185099]\n",
      " [-0.04236564 -0.05749515 -0.01418379  0.04334109]\n",
      " [ 0.06420303 -0.01969833 -0.01865077  0.03410569]]\n",
      "<NDArray 3x4 @cpu(0)>\n",
      "\n",
      "[[-0.00171092  0.00268309  0.0010522  -0.00248024]]\n",
      "<NDArray 1x4 @cpu(0)>\n",
      "\n",
      "[0.004869]\n",
      "<NDArray 1 @cpu(0)>\n",
      "\n",
      "[[-0.0394582  -0.04236564  0.06420303]\n",
      " [ 0.05357032 -0.05749515 -0.01969833]\n",
      " [-0.03703651 -0.01418379 -0.01865077]\n",
      " [-0.03185099  0.04334109  0.03410569]]\n",
      "<NDArray 4x3 @cpu(0)>\n",
      "\n",
      "[ 0.00025127 -0.0002042  -0.00026691]\n",
      "<NDArray 3 @cpu(0)>\n",
      "\n",
      "[0.00512027 0.0046648  0.00460209]\n",
      "<NDArray 3 @cpu(0)>\n"
     ]
    }
   ],
   "source": [
    "#Y=corr2d(X,3,4,1,W,B)\n",
    "print(conv_one_W[0])\n",
    "print(X[0:3])\n",
    "print(conv_one_W[0].reshape(1,-1))\n",
    "print(conv_one_B[0])\n",
    "print(X[0:3].T)\n",
    "temp=nd.dot(conv_one_W[0],X[0:3].T)\n",
    "print(temp)\n",
    "print(temp+conv_one_B[0])"
   ]
  },
  {
   "cell_type": "code",
   "execution_count": 11,
   "id": "833df08d-fef6-4d8a-ae8c-589c7e6efdd8",
   "metadata": {},
   "outputs": [
    {
     "data": {
      "text/plain": [
       "\n",
       "[[0.01859123 0.01847505 0.01812734]\n",
       " [0.00289608 0.00096899 0.0008444 ]\n",
       " [0.         0.         0.        ]\n",
       " ...\n",
       " [0.         0.         0.        ]\n",
       " [0.         0.         0.        ]\n",
       " [0.         0.         0.        ]]\n",
       "<NDArray 800x3 @cpu(0)>"
      ]
     },
     "execution_count": 11,
     "metadata": {},
     "output_type": "execute_result"
    }
   ],
   "source": [
    "d=corr2d(X,3,4,1,conv_one_W,conv_one_B)\n",
    "d"
   ]
  },
  {
   "cell_type": "code",
   "execution_count": 66,
   "id": "a9a9536f-8616-4fc1-b391-784bd0202702",
   "metadata": {},
   "outputs": [
    {
     "data": {
      "text/plain": [
       "\n",
       "[[0.00428783 0.00319912 0.00479101]]\n",
       "<NDArray 1x3 @cpu(0)>"
      ]
     },
     "execution_count": 66,
     "metadata": {},
     "output_type": "execute_result"
    }
   ],
   "source": [
    "d[750:800]"
   ]
  },
  {
   "cell_type": "code",
   "execution_count": 8,
   "id": "a09fc04d-050f-4658-89d5-871572551be3",
   "metadata": {},
   "outputs": [],
   "source": [
    "def myMax(X_one,X_two):\n",
    "    sum_one=X_one.sum()\n",
    "    sum_two=X_two.sum()\n",
    "    if sum_one>sum_two:\n",
    "        return X_one\n",
    "    else :\n",
    "        return X_two"
   ]
  },
  {
   "cell_type": "code",
   "execution_count": 9,
   "id": "0ceb7e32-c0ba-4267-9136-7eec3b7f6038",
   "metadata": {},
   "outputs": [],
   "source": [
    "def max_pool(X,width):\n",
    "    temp= int(X.shape[0]/2)\n",
    "    Y=nd.zeros((temp,width))\n",
    "    j=0\n",
    "    for i in range(0,X.shape[0]-1):\n",
    "        if i%2==1:\n",
    "            #print(j)\n",
    "            Y[j]=myMax(X[i],X[i+1])\n",
    "            j+=1\n",
    "    return Y"
   ]
  },
  {
   "cell_type": "code",
   "execution_count": 12,
   "id": "b9c29a56-5cdd-4785-9d48-479c38641016",
   "metadata": {},
   "outputs": [
    {
     "data": {
      "text/plain": [
       "\n",
       "[[0.00289608 0.00096899 0.0008444 ]\n",
       " [0.00124332 0.00036167 0.00124332]\n",
       " [0.00509738 0.0037667  0.00387907]\n",
       " ...\n",
       " [0.01720773 0.01720773 0.01720773]\n",
       " [0.         0.         0.        ]\n",
       " [0.         0.         0.        ]]\n",
       "<NDArray 400x3 @cpu(0)>"
      ]
     },
     "execution_count": 12,
     "metadata": {},
     "output_type": "execute_result"
    }
   ],
   "source": [
    "pool_val_one=max_pool(d,3)\n",
    "pool_val_one"
   ]
  },
  {
   "cell_type": "code",
   "execution_count": 225,
   "id": "c7c6bb94-007d-46bc-b500-5a17c11c14e8",
   "metadata": {},
   "outputs": [
    {
     "name": "stdout",
     "output_type": "stream",
     "text": [
      "\n",
      "[ 0.0151793  -0.00756879 -0.02235952]\n",
      "<NDArray 3 @cpu(0)>\n",
      "\n",
      "[-0.00235221]\n",
      "<NDArray 1 @cpu(0)>\n",
      "\n",
      "[[0.01723854 0.01500903 0.01475754]\n",
      " [0.00933571 0.00887769 0.00933571]\n",
      " [0.01063854 0.01057599 0.01190368]]\n",
      "<NDArray 3x3 @cpu(0)>\n",
      "\n",
      "[0.00208172 0.00208733 0.00208796]\n",
      "<NDArray 3 @cpu(0)>\n"
     ]
    }
   ],
   "source": [
    "print(conv_two_W[0])\n",
    "print(conv_two_B[0])\n",
    "print(pool_val_one[0:3])\n",
    "print(nd.dot(conv_two_W[1],pool_val_one[1:4])+conv_two_B[1])"
   ]
  },
  {
   "cell_type": "code",
   "execution_count": 13,
   "id": "9f518d98-afe5-4330-a466-fccd1511b2b0",
   "metadata": {},
   "outputs": [
    {
     "data": {
      "text/plain": [
       "\n",
       "[[0.00367102 0.00365848 0.00369508]\n",
       " [0.00594192 0.00597939 0.00597985]\n",
       " [0.         0.         0.        ]\n",
       " [0.00142513 0.00139265 0.00157724]\n",
       " [0.         0.         0.        ]\n",
       " [0.01038004 0.0103682  0.01041599]\n",
       " [0.         0.         0.        ]\n",
       " [0.00212157 0.00204638 0.00211941]\n",
       " [0.         0.         0.        ]\n",
       " [0.         0.         0.        ]\n",
       " [0.         0.         0.        ]\n",
       " [0.         0.         0.        ]\n",
       " [0.00856541 0.00840797 0.00865346]\n",
       " [0.00221756 0.00210431 0.00216964]\n",
       " [0.00200409 0.00199839 0.00201519]]\n",
       "<NDArray 15x3 @cpu(0)>"
      ]
     },
     "execution_count": 13,
     "metadata": {},
     "output_type": "execute_result"
    }
   ],
   "source": [
    "conv_val_two=corr2d(pool_val_one,3,3,1,conv_two_W,conv_two_B)\n",
    "conv_val_two[0:15]"
   ]
  },
  {
   "cell_type": "code",
   "execution_count": 14,
   "id": "1f56251c-71a5-4462-965f-83e4d55d6c1e",
   "metadata": {},
   "outputs": [
    {
     "data": {
      "text/plain": [
       "(200, 3)"
      ]
     },
     "execution_count": 14,
     "metadata": {},
     "output_type": "execute_result"
    }
   ],
   "source": [
    "pool_val_two=max_pool(conv_val_two,3)\n",
    "pool_val_two.shape"
   ]
  },
  {
   "cell_type": "code",
   "execution_count": 16,
   "id": "a81b3f81-5970-406b-ba9b-36ac70698442",
   "metadata": {},
   "outputs": [
    {
     "data": {
      "text/plain": [
       "(200, 1)"
      ]
     },
     "execution_count": 16,
     "metadata": {},
     "output_type": "execute_result"
    }
   ],
   "source": [
    "conv_val_three=corr2d(pool_val_two,1,3,1,conv_three_W,conv_three_B)\n",
    "conv_val_three.shape"
   ]
  },
  {
   "cell_type": "code",
   "execution_count": 229,
   "id": "e737925c-5f1f-4817-94a1-441d35b221fb",
   "metadata": {},
   "outputs": [
    {
     "name": "stdout",
     "output_type": "stream",
     "text": [
      "\n",
      "[0.00072014]\n",
      "<NDArray 1 @cpu(0)>\n",
      "\n",
      "[[ 0.0062108 ]\n",
      " [-0.01748542]\n",
      " [-0.0091171 ]]\n",
      "<NDArray 3x1 @cpu(0)>\n",
      "\n",
      "[[0.0005836]]\n",
      "<NDArray 1x1 @cpu(0)>\n"
     ]
    }
   ],
   "source": [
    "print(conv_three_B[8])\n",
    "print(conv_three_W[8].reshape(3,-1))\n",
    "print(nd.dot(conv_three_W[8].reshape(1,-1),pool_val_two[8].reshape(3,-1))+conv_three_B[8])"
   ]
  },
  {
   "cell_type": "code",
   "execution_count": null,
   "id": "9ee3e7ab-6083-4f4f-ade6-50848a4743b3",
   "metadata": {},
   "outputs": [],
   "source": [
    "conv_val_three[0:30]"
   ]
  },
  {
   "cell_type": "code",
   "execution_count": 17,
   "id": "f74e89fe-adba-4b03-bd5a-83acc5ebee92",
   "metadata": {},
   "outputs": [],
   "source": [
    "pool_val_three=max_pool(conv_val_three,1)"
   ]
  },
  {
   "cell_type": "code",
   "execution_count": 18,
   "id": "2cb305fc-b70f-45da-9790-badc2aa8bd38",
   "metadata": {},
   "outputs": [
    {
     "data": {
      "text/plain": [
       "(100, 1)"
      ]
     },
     "execution_count": 18,
     "metadata": {},
     "output_type": "execute_result"
    }
   ],
   "source": [
    "pool_val_three.shape"
   ]
  },
  {
   "cell_type": "code",
   "execution_count": 29,
   "id": "74d37f4a-a2f4-43cc-b13f-3c20f0101b0d",
   "metadata": {},
   "outputs": [],
   "source": [
    "dense_one=nn.Dense(in_units=100,units=80)\n",
    "dense_one.initialize()"
   ]
  },
  {
   "cell_type": "code",
   "execution_count": 66,
   "id": "45b828f0-a88a-4ca1-8d0b-e22f19d74bd3",
   "metadata": {},
   "outputs": [],
   "source": [
    "def ful_connect_layer(X,W,B):\n",
    "    Y=nd.zeros(W.shape[1])\n",
    "    Y=nd.dot(X.T,W).T+B\n",
    "    return Y.tanh()\n"
   ]
  },
  {
   "cell_type": "code",
   "execution_count": 67,
   "id": "5a2f9bca-fe0c-42c2-b648-c697ad5fddd7",
   "metadata": {},
   "outputs": [
    {
     "name": "stdout",
     "output_type": "stream",
     "text": [
      "(1, 100)\n",
      "(100, 80)\n",
      "(80, 1)\n",
      "\n",
      "[[0.0111461]]\n",
      "<NDArray 1x1 @cpu(0)>\n",
      "\n",
      "[[0.01114564]]\n",
      "<NDArray 1x1 @cpu(0)>\n"
     ]
    }
   ],
   "source": [
    "print(pool_val_three.T.shape)\n",
    "print(ful_connect_W.shape)\n",
    "print(ful_connect_B.shape)\n",
    "s1=ful_connect_W.T[0].reshape((100,-1))\n",
    "#print(s1)\n",
    "ss=nd.dot(pool_val_three.T,s1)+ful_connect_B[0]\n",
    "print(ss)\n",
    "print(ss.tanh())\n",
    "ful_connect_val=ful_connect_layer(pool_val_three,ful_connect_W,ful_connect_B)"
   ]
  },
  {
   "cell_type": "code",
   "execution_count": null,
   "id": "50b069dd-6c47-41f1-9364-ef4f460846be",
   "metadata": {},
   "outputs": [],
   "source": [
    "\n",
    "    "
   ]
  },
  {
   "cell_type": "code",
   "execution_count": 73,
   "id": "180e57e5-c034-4902-af8b-f0c7a3b49036",
   "metadata": {},
   "outputs": [],
   "source": [
    "conv_layer_one_W=nd.zeros((800,4))\n",
    "conv_layer_one_W=nd.random.normal(scale=0.01,shape=(conv_one_W.shape))\n",
    "conv_layer_one_W.reshape(800,4)\n",
    "conv_layer_one_B=nd.zeros((800,1))\n",
    "conv_layer_one_B=nd.random.normal(scale=0.01,shape=(conv_one_B.shape))\n",
    "\n",
    "conv_layer_two_W=nd.zeros((400,3))\n",
    "conv_layer_two_W=nd.random.normal(scale=0.01,shape=(conv_two_W.shape))\n",
    "conv_layer_two_W.reshape(400,3)\n",
    "conv_layer_two_B=nd.zeros((400,1))\n",
    "conv_layer_two_B=nd.random.normal(scale=0.01,shape=(conv_two_B.shape))\n",
    "\n",
    "conv_layer_three_W=nd.zeros((200,3))\n",
    "conv_layer_three_W=nd.random.normal(scale=0.01,shape=(conv_three_W.shape))\n",
    "conv_layer_three_B=nd.zeros((200,1))\n",
    "conv_layer_three_B=nd.random.normal(scale=0.01,shape=(conv_three_B.shape))\n",
    "\n",
    "conv_layer_four_W=nd.zeros((100,3))\n",
    "conv_layer_four_W=nd.random.normal(scale=0.01,shape=(conv_four_W.shape))\n",
    "conv_layer_four_B=nd.zeros((100,1))\n",
    "conv_layer_four_B=nd.random.normal(scale=0.01,shape=(conv_four_B.shape))\n",
    "\n",
    "ful_layer_connect_W=nd.zeros((100,80))\n",
    "ful_layer_connect_W=nd.random.normal(scale=0.01,shape=(ful_connect_W.shape))\n",
    "ful_layer_connect_B=nd.zeros((80,1))\n",
    "ful_layer_connect_B=nd.random.normal(scale=0.01,shape=(ful_connect_B.shape))"
   ]
  },
  {
   "cell_type": "code",
   "execution_count": 78,
   "id": "f4f31dfe-819d-490b-90c1-e32a3e3b0f8a",
   "metadata": {},
   "outputs": [],
   "source": [
    "params=[conv_layer_one_W,conv_layer_one_B,\n",
    "        conv_layer_two_W,conv_layer_two_B,\n",
    "        conv_layer_three_W,conv_layer_three_B,\n",
    "        conv_layer_four_W,conv_layer_four_B,\n",
    "       ful_layer_connect_W,ful_layer_connect_B]"
   ]
  },
  {
   "cell_type": "code",
   "execution_count": 82,
   "id": "0b7fac42-c060-46c3-ae88-3abeae73c25d",
   "metadata": {},
   "outputs": [],
   "source": [
    "def save_params(params,filePath):\n",
    "    layer_one_W,layer_one_B,layer_two_W,layer_two_B,layer_three_W,layer_three_B,layer_four_W,layer_four_B,layer_connect_W,layer_connect_B=params\n",
    "    file=filePath\n",
    "    nd.save(file+'conv_layer_one_W.txt',layer_one_W)\n",
    "    nd.save(file+'conv_layer_one_B.txt',layer_one_B)\n",
    "    nd.save(file+'conv_layer_two_W.txt',layer_two_W)\n",
    "    nd.save(file+'conv_layer_two_B.txt',layer_two_B)\n",
    "    nd.save(file+'conv_layer_three_W.txt',layer_three_W)\n",
    "    nd.save(file+'conv_layer_three_B.txt',layer_three_B)\n",
    "    nd.save(file+'conv_layer_four_W.txt',layer_four_W)\n",
    "    nd.save(file+'conv_layer_four_B.txt',layer_four_B)\n",
    "    nd.save(file+'ful_layer_connect_W.txt',layer_connect_W)\n",
    "    nd.save(file+'ful_layer_connect_B.txt',layer_connect_B)\n",
    "    return"
   ]
  },
  {
   "cell_type": "code",
   "execution_count": 75,
   "id": "ee5e03e6-fa8a-41c9-8529-6d69bac79c73",
   "metadata": {},
   "outputs": [
    {
     "name": "stdout",
     "output_type": "stream",
     "text": [
      "data/conv_layer_one_W.txt\n"
     ]
    }
   ],
   "source": [
    "filePath=\"data/params\"\n",
    "print(filePath+\"conv_layer_one_W.txt\")"
   ]
  },
  {
   "cell_type": "code",
   "execution_count": 84,
   "id": "3a85b0d2-7eb6-40c8-a042-459d185bf5f8",
   "metadata": {},
   "outputs": [],
   "source": [
    "save_params(params,\"data/params/\")"
   ]
  },
  {
   "cell_type": "code",
   "execution_count": 142,
   "id": "aaf154fd-60bf-45b7-84c8-0f0159ef74a3",
   "metadata": {},
   "outputs": [],
   "source": [
    "def read_params(filePath):\n",
    "     layer_one_W=nd.load(filePath+'conv_layer_one_W.txt')\n",
    "     layer_one_B=nd.load(filePath+'conv_layer_one_B.txt')\n",
    "     layer_two_W=nd.load(filePath+'conv_layer_two_W.txt')\n",
    "     layer_two_B=nd.load(filePath+'conv_layer_two_B.txt')\n",
    "     layer_three_W=nd.load(filePath+'conv_layer_three_W.txt')\n",
    "     layer_three_B=nd.load(filePath+'conv_layer_three_B.txt')\n",
    "     layer_four_W=nd.load(filePath+'conv_layer_four_W.txt')\n",
    "     layer_four_B=nd.load(filePath+'conv_layer_four_B.txt')\n",
    "     layer_connect_W=nd.load(filePath+'ful_layer_connect_W.txt')\n",
    "     layer_connect_B=nd.load(filePath+'ful_layer_connect_B.txt')\n",
    "     params=[layer_one_W,layer_one_B,layer_two_W,layer_two_B,layer_three_W,layer_three_B,layer_four_W,layer_four_B,layer_connect_W,layer_connect_B]\n",
    "     return params"
   ]
  },
  {
   "cell_type": "code",
   "execution_count": 143,
   "id": "af977dba-e800-4761-ab6a-a962ea899554",
   "metadata": {},
   "outputs": [],
   "source": [
    "params=read_params(\"data/params/\")"
   ]
  },
  {
   "cell_type": "code",
   "execution_count": 144,
   "id": "c180752f-8b1a-4e1e-9b60-9ba232366357",
   "metadata": {},
   "outputs": [],
   "source": [
    " layer_one_W,layer_one_B,layer_two_W,layer_two_B,layer_three_W,layer_three_B,layer_four_W,layer_four_B,layer_connect_W,layer_connect_B=params"
   ]
  },
  {
   "cell_type": "code",
   "execution_count": 149,
   "id": "664a00f3-38a9-485b-9150-c97203151b0c",
   "metadata": {},
   "outputs": [],
   "source": [
    "layer_one_W=layer_one_W[0]"
   ]
  },
  {
   "cell_type": "code",
   "execution_count": 146,
   "id": "218eb0c0-8808-456a-919b-67b3fcccebc1",
   "metadata": {},
   "outputs": [
    {
     "data": {
      "text/plain": [
       "\n",
       "[-0.00541273 -0.01315816 -0.01779215  0.00751588]\n",
       "<NDArray 4 @cpu(0)>"
      ]
     },
     "execution_count": 146,
     "metadata": {},
     "output_type": "execute_result"
    }
   ],
   "source": [
    "conv_layer_one_W[0]"
   ]
  },
  {
   "cell_type": "code",
   "execution_count": 150,
   "id": "c150f464-d456-47ce-a362-0e1b3d6e4c9e",
   "metadata": {},
   "outputs": [
    {
     "data": {
      "text/plain": [
       "\n",
       "[[-0.00541273 -0.01315816 -0.01779215  0.00751588]\n",
       " [-0.00935277  0.01132305 -0.00800345 -0.00771981]\n",
       " [-0.01884033 -0.00975545 -0.00646062 -0.0038303 ]\n",
       " ...\n",
       " [-0.00754588  0.00248445 -0.00384408  0.01411449]\n",
       " [ 0.00121602  0.01649864 -0.00083318 -0.0100249 ]\n",
       " [-0.00130257 -0.01015762 -0.01057667  0.01792797]]\n",
       "<NDArray 800x4 @cpu(0)>"
      ]
     },
     "execution_count": 150,
     "metadata": {},
     "output_type": "execute_result"
    }
   ],
   "source": [
    "layer_one_W"
   ]
  },
  {
   "cell_type": "code",
   "execution_count": null,
   "id": "7e94738a-5a48-46c2-bfa7-204fa706205e",
   "metadata": {},
   "outputs": [],
   "source": []
  }
 ],
 "metadata": {
  "kernelspec": {
   "display_name": "Python 3",
   "language": "python",
   "name": "python3"
  },
  "language_info": {
   "codemirror_mode": {
    "name": "ipython",
    "version": 3
   },
   "file_extension": ".py",
   "mimetype": "text/x-python",
   "name": "python",
   "nbconvert_exporter": "python",
   "pygments_lexer": "ipython3",
   "version": "3.6.13"
  }
 },
 "nbformat": 4,
 "nbformat_minor": 5
}
