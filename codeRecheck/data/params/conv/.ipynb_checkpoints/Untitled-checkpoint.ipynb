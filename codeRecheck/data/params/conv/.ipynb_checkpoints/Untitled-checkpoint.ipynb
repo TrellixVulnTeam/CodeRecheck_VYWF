{
 "cells": [
  {
   "cell_type": "code",
   "execution_count": 4,
   "id": "b4ed0c5f-1847-4698-bedb-2c0ea21dd0bb",
   "metadata": {},
   "outputs": [],
   "source": [
    "from mxnet import nd\n",
    "import random\n",
    "import zipfile\n",
    "import collections\n",
    "import d2lzh as d2l\n",
    "import math\n",
    "from mxnet import autograd,gluon,nd\n",
    "from mxnet.gluon import data as gdata,loss as gloss,nn,utils as gutils\n",
    "import os\n",
    "import sys\n",
    "import time\n",
    "import numpy as np\n",
    "from mxnet import init\n",
    "from mxnet.contrib import text"
   ]
  },
  {
   "cell_type": "code",
   "execution_count": 7,
   "id": "f8b3cde0-2c62-4485-b54d-279b4de03f6f",
   "metadata": {},
   "outputs": [],
   "source": [
    "def read_embedding_params(filePath):\n",
    "    idx_to_token=np.load(filePath+'idx_to_token.npy')\n",
    "    #token_to_idx=np.load(filePath+'token_to_idx.npy')\n",
    "    token_to_idx={tk:idx for idx,tk in enumerate(idx_to_token)}\n",
    "    embedding_weight=nd.load(filePath+'embedding_weight.txt')\n",
    "    return idx_to_token,token_to_idx,embedding_weight"
   ]
  },
  {
   "cell_type": "code",
   "execution_count": 8,
   "id": "a881545f-98d1-43ae-a29c-a61149cb8ef4",
   "metadata": {},
   "outputs": [
    {
     "ename": "FileNotFoundError",
     "evalue": "[Errno 2] No such file or directory: 'data/params/word2Vec/idx_to_token.npy'",
     "output_type": "error",
     "traceback": [
      "\u001b[1;31m---------------------------------------------------------------------------\u001b[0m",
      "\u001b[1;31mFileNotFoundError\u001b[0m                         Traceback (most recent call last)",
      "\u001b[1;32m<ipython-input-8-395bf3587e8b>\u001b[0m in \u001b[0;36m<module>\u001b[1;34m\u001b[0m\n\u001b[1;32m----> 1\u001b[1;33m \u001b[0midx_to_token\u001b[0m\u001b[1;33m,\u001b[0m\u001b[0mtoken_to_idx\u001b[0m\u001b[1;33m,\u001b[0m\u001b[0membedding_weight\u001b[0m\u001b[1;33m=\u001b[0m\u001b[0mread_embedding_params\u001b[0m\u001b[1;33m(\u001b[0m\u001b[1;34m\"data/params/word2Vec/\"\u001b[0m\u001b[1;33m)\u001b[0m\u001b[1;33m\u001b[0m\u001b[1;33m\u001b[0m\u001b[0m\n\u001b[0m\u001b[0;32m      2\u001b[0m \u001b[0membedding_dim\u001b[0m\u001b[1;33m=\u001b[0m\u001b[1;36m20\u001b[0m\u001b[1;33m\u001b[0m\u001b[1;33m\u001b[0m\u001b[0m\n\u001b[0;32m      3\u001b[0m \u001b[0mtext_size\u001b[0m\u001b[1;33m=\u001b[0m\u001b[1;36m800\u001b[0m\u001b[1;33m\u001b[0m\u001b[1;33m\u001b[0m\u001b[0m\n\u001b[0;32m      4\u001b[0m \u001b[0midx_to_token\u001b[0m\u001b[1;33m\u001b[0m\u001b[1;33m\u001b[0m\u001b[0m\n",
      "\u001b[1;32m<ipython-input-7-840bdec247e7>\u001b[0m in \u001b[0;36mread_embedding_params\u001b[1;34m(filePath)\u001b[0m\n\u001b[0;32m      1\u001b[0m \u001b[1;32mdef\u001b[0m \u001b[0mread_embedding_params\u001b[0m\u001b[1;33m(\u001b[0m\u001b[0mfilePath\u001b[0m\u001b[1;33m)\u001b[0m\u001b[1;33m:\u001b[0m\u001b[1;33m\u001b[0m\u001b[1;33m\u001b[0m\u001b[0m\n\u001b[1;32m----> 2\u001b[1;33m     \u001b[0midx_to_token\u001b[0m\u001b[1;33m=\u001b[0m\u001b[0mnp\u001b[0m\u001b[1;33m.\u001b[0m\u001b[0mload\u001b[0m\u001b[1;33m(\u001b[0m\u001b[0mfilePath\u001b[0m\u001b[1;33m+\u001b[0m\u001b[1;34m'idx_to_token.npy'\u001b[0m\u001b[1;33m)\u001b[0m\u001b[1;33m\u001b[0m\u001b[1;33m\u001b[0m\u001b[0m\n\u001b[0m\u001b[0;32m      3\u001b[0m     \u001b[1;31m#token_to_idx=np.load(filePath+'token_to_idx.npy')\u001b[0m\u001b[1;33m\u001b[0m\u001b[1;33m\u001b[0m\u001b[1;33m\u001b[0m\u001b[0m\n\u001b[0;32m      4\u001b[0m     \u001b[0mtoken_to_idx\u001b[0m\u001b[1;33m=\u001b[0m\u001b[1;33m{\u001b[0m\u001b[0mtk\u001b[0m\u001b[1;33m:\u001b[0m\u001b[0midx\u001b[0m \u001b[1;32mfor\u001b[0m \u001b[0midx\u001b[0m\u001b[1;33m,\u001b[0m\u001b[0mtk\u001b[0m \u001b[1;32min\u001b[0m \u001b[0menumerate\u001b[0m\u001b[1;33m(\u001b[0m\u001b[0midx_to_token\u001b[0m\u001b[1;33m)\u001b[0m\u001b[1;33m}\u001b[0m\u001b[1;33m\u001b[0m\u001b[1;33m\u001b[0m\u001b[0m\n\u001b[0;32m      5\u001b[0m     \u001b[0membedding_weight\u001b[0m\u001b[1;33m=\u001b[0m\u001b[0mnd\u001b[0m\u001b[1;33m.\u001b[0m\u001b[0mload\u001b[0m\u001b[1;33m(\u001b[0m\u001b[0mfilePath\u001b[0m\u001b[1;33m+\u001b[0m\u001b[1;34m'embedding_weight.txt'\u001b[0m\u001b[1;33m)\u001b[0m\u001b[1;33m\u001b[0m\u001b[1;33m\u001b[0m\u001b[0m\n",
      "\u001b[1;32mD:\\software\\Anaconda3\\envs\\gluon\\lib\\site-packages\\numpy\\lib\\npyio.py\u001b[0m in \u001b[0;36mload\u001b[1;34m(file, mmap_mode, allow_pickle, fix_imports, encoding)\u001b[0m\n\u001b[0;32m    420\u001b[0m         \u001b[0mown_fid\u001b[0m \u001b[1;33m=\u001b[0m \u001b[1;32mFalse\u001b[0m\u001b[1;33m\u001b[0m\u001b[1;33m\u001b[0m\u001b[0m\n\u001b[0;32m    421\u001b[0m     \u001b[1;32melse\u001b[0m\u001b[1;33m:\u001b[0m\u001b[1;33m\u001b[0m\u001b[1;33m\u001b[0m\u001b[0m\n\u001b[1;32m--> 422\u001b[1;33m         \u001b[0mfid\u001b[0m \u001b[1;33m=\u001b[0m \u001b[0mopen\u001b[0m\u001b[1;33m(\u001b[0m\u001b[0mos_fspath\u001b[0m\u001b[1;33m(\u001b[0m\u001b[0mfile\u001b[0m\u001b[1;33m)\u001b[0m\u001b[1;33m,\u001b[0m \u001b[1;34m\"rb\"\u001b[0m\u001b[1;33m)\u001b[0m\u001b[1;33m\u001b[0m\u001b[1;33m\u001b[0m\u001b[0m\n\u001b[0m\u001b[0;32m    423\u001b[0m         \u001b[0mown_fid\u001b[0m \u001b[1;33m=\u001b[0m \u001b[1;32mTrue\u001b[0m\u001b[1;33m\u001b[0m\u001b[1;33m\u001b[0m\u001b[0m\n\u001b[0;32m    424\u001b[0m \u001b[1;33m\u001b[0m\u001b[0m\n",
      "\u001b[1;31mFileNotFoundError\u001b[0m: [Errno 2] No such file or directory: 'data/params/word2Vec/idx_to_token.npy'"
     ]
    }
   ],
   "source": [
    "idx_to_token,token_to_idx,embedding_weight=read_embedding_params(\"data/params/word2Vec/\")\n",
    "embedding_dim=20\n",
    "text_size=800\n",
    "idx_to_token"
   ]
  },
  {
   "cell_type": "code",
   "execution_count": null,
   "id": "ab378baa-e635-4197-a52b-d4e724d85307",
   "metadata": {},
   "outputs": [],
   "source": [
    " def init_params():\n",
    "        conv_one_W=nd.zeros(shape=(20,3))\n",
    "        conv_one_W=nd.random.normal(scale=0.01,shape=(conv_one_W.shape))\n",
    "        conv_one_B=nd.zeros(shape=(3,3))\n",
    "        conv_one_B=nd.random.normal(scale=0.01,shape=(conv_one_B.shape))\n",
    "    \n",
    "        conv_two_W=nd.zeros(shape=(9,3))\n",
    "        conv_two_W=nd.random.normal(scale=0.01,shape=(conv_two_W.shape))\n",
    "        conv_two_B=nd.zeros(shape=(3,3))\n",
    "        conv_two_B=nd.random.normal(scale=0.01,shape=(conv_two_B.shape))\n",
    "\n",
    "        conv_three_W=nd.zeros(shape=(9,3))\n",
    "        conv_three_W=nd.random.normal(scale=0.01,shape=(conv_three_W.shape))\n",
    "        conv_three_B=nd.zeros(shape=(3,3))\n",
    "        conv_three_B=nd.random.normal(scale=0.01,shape=(conv_three_B.shape))\n",
    "\n",
    "        conv_four_W=nd.zeros(shape=(9,1))\n",
    "        conv_four_W=nd.random.normal(scale=0.01,shape=(conv_four_W.shape))\n",
    "        conv_four_B=nd.zeros(1)\n",
    "        conv_four_B=nd.random.normal(scale=0.01,shape=(conv_four_B.shape))\n",
    "\n",
    "        full_connect_W=nd.zeros(shape=(100,80))\n",
    "        full_connect_W=nd.random.normal(scale=0.01,shape=(full_connect_W.shape))\n",
    "        full_connect_B=nd.zeros(shape=(80,1))\n",
    "        full_connect_B=nd.random.normal(scale=0.01,shape=(full_connect_B.shape))\n",
    "        #print(conv_one_W)\n",
    "        params=[conv_one_W,conv_one_B,conv_two_W,conv_two_B,conv_three_W,conv_three_B,conv_four_W,conv_four_B,full_connect_W,full_connect_B]\n",
    "        return params"
   ]
  },
  {
   "cell_type": "code",
   "execution_count": null,
   "id": "e7827b6e-5fdd-4710-993b-2ce2403133d2",
   "metadata": {},
   "outputs": [],
   "source": [
    "#params=init_params()\n",
    "params=read_params('data/params/conv/')\n",
    "#params_two=params[0]\n",
    "#print(params[0][0])\n",
    "conv_one_W=params[0][0]\n",
    "conv_one_B=params[1][0]\n",
    "conv_two_W=params[2][0]\n",
    "conv_two_B=params[3][0]\n",
    "conv_three_W=params[4][0]\n",
    "conv_three_B=params[5][0]\n",
    "conv_four_W=params[6][0]\n",
    "conv_four_B=params[7][0]\n",
    "full_connect_W=params[8][0]\n",
    "full_connect_B=params[9][0]\n",
    "params=[conv_one_W,conv_one_B,conv_two_W,conv_two_B,conv_three_W,conv_three_B,conv_four_W,conv_four_B,full_connect_W,full_connect_B]\n",
    "print(params)"
   ]
  },
  {
   "cell_type": "code",
   "execution_count": 5,
   "id": "1d1642a8-fe2a-4781-9b06-ae99a8e339e2",
   "metadata": {},
   "outputs": [],
   "source": [
    " def save_params(params,filePath):\n",
    "        file=filePath\n",
    "        nd.save(file+'conv_layer_one_W.txt',params[0])\n",
    "        nd.save(file+'conv_layer_one_B.txt',params[1])\n",
    "        nd.save(file+'conv_layer_two_W.txt',params[2])\n",
    "        nd.save(file+'conv_layer_two_B.txt',params[3])\n",
    "        nd.save(file+'conv_layer_three_W.txt',params[4])\n",
    "        nd.save(file+'conv_layer_three_B.txt',params[5])\n",
    "        nd.save(file+'conv_layer_four_W.txt',params[6])\n",
    "        nd.save(file+'conv_layer_four_B.txt',params[7])\n",
    "        nd.save(file+'ful_layer_connect_W.txt',params[8])\n",
    "        nd.save(file+'ful_layer_connect_B.txt',params[9])\n",
    "        return"
   ]
  },
  {
   "cell_type": "code",
   "execution_count": 4,
   "id": "d0d1151e-e9db-4022-b58a-a1279e44228d",
   "metadata": {},
   "outputs": [
    {
     "ename": "NameError",
     "evalue": "name 'save_params' is not defined",
     "output_type": "error",
     "traceback": [
      "\u001b[1;31m---------------------------------------------------------------------------\u001b[0m",
      "\u001b[1;31mNameError\u001b[0m                                 Traceback (most recent call last)",
      "\u001b[1;32m<ipython-input-4-aa6fc5c3cf0c>\u001b[0m in \u001b[0;36m<module>\u001b[1;34m\u001b[0m\n\u001b[1;32m----> 1\u001b[1;33m \u001b[0msave_params\u001b[0m\u001b[1;33m(\u001b[0m\u001b[0mparams\u001b[0m\u001b[1;33m,\u001b[0m\u001b[1;34m'data/params/conv/'\u001b[0m\u001b[1;33m)\u001b[0m\u001b[1;33m\u001b[0m\u001b[1;33m\u001b[0m\u001b[0m\n\u001b[0m",
      "\u001b[1;31mNameError\u001b[0m: name 'save_params' is not defined"
     ]
    }
   ],
   "source": [
    "save_params(params,'data/params/conv/')"
   ]
  },
  {
   "cell_type": "code",
   "execution_count": 6,
   "id": "0afccfbc-3c6b-47a1-af4c-fff0750111c4",
   "metadata": {},
   "outputs": [],
   "source": [
    "def read_file_data(filePath,token_to_idx,text_size):\n",
    "    f=open(filePath)\n",
    "    lines=f.readlines()\n",
    "    raw_dataset=[st.split() for st in lines]\n",
    "    raw_dataset.remove([])\n",
    "    wordNum=0;\n",
    "    dataset_temp=[]\n",
    "    for st in raw_dataset:\n",
    "         for wt in st:\n",
    "                wordNum+=1\n",
    "    dataset=[[token_to_idx[tk] for tk in st if tk in token_to_idx] for st in raw_dataset]\n",
    "    dict_size=text_size #文本大小\n",
    "    dataset=np.array(dataset)\n",
    "    temp_one=np.array([])\n",
    "    for row in dataset:\n",
    "        for col in row:\n",
    "            temp_one=np.append(temp_one,np.array(col))\n",
    "    zeros=np.zeros(dict_size-wordNum)\n",
    "    temp_two=np.append(temp_one,zeros)\n",
    "    temp_three=np.array(temp_two)\n",
    "    #print(temp_three)\n",
    "    temp_three=temp_three.reshape(dict_size,-1)\n",
    "    return temp_three"
   ]
  },
  {
   "cell_type": "code",
   "execution_count": 7,
   "id": "618df17e-c82f-492b-a90f-e7848f8a64b8",
   "metadata": {},
   "outputs": [],
   "source": [
    "def read_mult_input_data(fileDir,token_to_idx,text_size):\n",
    "    positive_text=read_file_data(fileDir+'positiveText/positiveText_cnn.lex',token_to_idx,text_size)\n",
    "    original_text=read_file_data(fileDir+'originalText/originalText_cnn.lex',token_to_idx,text_size)\n",
    "    negative_text=read_file_data(fileDir+'negativeText/negativeText_cnn.lex',token_to_idx,text_size)\n",
    "    return original_text,positive_text,negative_text"
   ]
  },
  {
   "cell_type": "code",
   "execution_count": 8,
   "id": "2fffc885-008e-4ad7-8d39-9766c9751280",
   "metadata": {},
   "outputs": [
    {
     "ename": "NameError",
     "evalue": "name 'token_to_idx' is not defined",
     "output_type": "error",
     "traceback": [
      "\u001b[1;31m---------------------------------------------------------------------------\u001b[0m",
      "\u001b[1;31mNameError\u001b[0m                                 Traceback (most recent call last)",
      "\u001b[1;32m<ipython-input-8-9c8a6f8002c9>\u001b[0m in \u001b[0;36m<module>\u001b[1;34m\u001b[0m\n\u001b[1;32m----> 1\u001b[1;33m \u001b[0moriginal_text\u001b[0m\u001b[1;33m,\u001b[0m\u001b[0mpositive_text\u001b[0m\u001b[1;33m,\u001b[0m\u001b[0mnegative_text\u001b[0m\u001b[1;33m=\u001b[0m\u001b[0mread_mult_input_data\u001b[0m\u001b[1;33m(\u001b[0m\u001b[1;34m\"data/input_data/\"\u001b[0m\u001b[1;33m,\u001b[0m\u001b[0mtoken_to_idx\u001b[0m\u001b[1;33m,\u001b[0m\u001b[0mtext_size\u001b[0m\u001b[1;33m)\u001b[0m\u001b[1;33m\u001b[0m\u001b[1;33m\u001b[0m\u001b[0m\n\u001b[0m\u001b[0;32m      2\u001b[0m \u001b[0moriginal_text\u001b[0m\u001b[1;33m=\u001b[0m\u001b[0mnd\u001b[0m\u001b[1;33m.\u001b[0m\u001b[0marray\u001b[0m\u001b[1;33m(\u001b[0m\u001b[0moriginal_text\u001b[0m\u001b[1;33m)\u001b[0m\u001b[1;33m\u001b[0m\u001b[1;33m\u001b[0m\u001b[0m\n\u001b[0;32m      3\u001b[0m \u001b[0mpositive_text\u001b[0m\u001b[1;33m=\u001b[0m\u001b[0mnd\u001b[0m\u001b[1;33m.\u001b[0m\u001b[0marray\u001b[0m\u001b[1;33m(\u001b[0m\u001b[0mpositive_text\u001b[0m\u001b[1;33m)\u001b[0m\u001b[1;33m\u001b[0m\u001b[1;33m\u001b[0m\u001b[0m\n\u001b[0;32m      4\u001b[0m \u001b[0mnegative_text\u001b[0m\u001b[1;33m=\u001b[0m\u001b[0mnd\u001b[0m\u001b[1;33m.\u001b[0m\u001b[0marray\u001b[0m\u001b[1;33m(\u001b[0m\u001b[0mnegative_text\u001b[0m\u001b[1;33m)\u001b[0m\u001b[1;33m\u001b[0m\u001b[1;33m\u001b[0m\u001b[0m\n",
      "\u001b[1;31mNameError\u001b[0m: name 'token_to_idx' is not defined"
     ]
    }
   ],
   "source": [
    "original_text,positive_text,negative_text=read_mult_input_data(\"data/input_data/\",token_to_idx,text_size)\n",
    "original_text=nd.array(original_text)\n",
    "positive_text=nd.array(positive_text)\n",
    "negative_text=nd.array(negative_text)"
   ]
  },
  {
   "cell_type": "code",
   "execution_count": null,
   "id": "391bbd48-ea73-444d-a62a-784dc48c5919",
   "metadata": {},
   "outputs": [],
   "source": []
  }
 ],
 "metadata": {
  "kernelspec": {
   "display_name": "Python 3",
   "language": "python",
   "name": "python3"
  },
  "language_info": {
   "codemirror_mode": {
    "name": "ipython",
    "version": 3
   },
   "file_extension": ".py",
   "mimetype": "text/x-python",
   "name": "python",
   "nbconvert_exporter": "python",
   "pygments_lexer": "ipython3",
   "version": "3.6.13"
  }
 },
 "nbformat": 4,
 "nbformat_minor": 5
}
